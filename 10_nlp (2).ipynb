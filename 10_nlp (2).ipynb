{
 "cells": [
  {
   "cell_type": "code",
   "execution_count": 1,
   "metadata": {},
   "outputs": [],
   "source": [
    "#hide\n",
    "# ! [ -e /content ] && pip install -Uqq fastbook\n",
    "import fastbook\n",
    "fastbook.setup_book()"
   ]
  },
  {
   "cell_type": "code",
   "execution_count": 2,
   "metadata": {},
   "outputs": [],
   "source": [
    "#hide\n",
    "from fastbook import *\n",
    "from IPython.display import display,HTML"
   ]
  },
  {
   "cell_type": "markdown",
   "metadata": {},
   "source": [
    "# NLP Deep Dive: RNNs"
   ]
  },
  {
   "cell_type": "markdown",
   "metadata": {},
   "source": [
    "## Text Preprocessing"
   ]
  },
  {
   "cell_type": "markdown",
   "metadata": {},
   "source": [
    "### Tokenization"
   ]
  },
  {
   "cell_type": "markdown",
   "metadata": {},
   "source": [
    "### Word Tokenization with fastai"
   ]
  },
  {
   "cell_type": "code",
   "execution_count": 3,
   "metadata": {},
   "outputs": [
    {
     "data": {
      "text/html": [
       "\n",
       "<style>\n",
       "    /* Turns off some styling */\n",
       "    progress {\n",
       "        /* gets rid of default border in Firefox and Opera. */\n",
       "        border: none;\n",
       "        /* Needs to be in here for Safari polyfill so background images work as expected. */\n",
       "        background-size: auto;\n",
       "    }\n",
       "    progress:not([value]), progress:not([value])::-webkit-progress-bar {\n",
       "        background: repeating-linear-gradient(45deg, #7e7e7e, #7e7e7e 10px, #5c5c5c 10px, #5c5c5c 20px);\n",
       "    }\n",
       "    .progress-bar-interrupted, .progress-bar-interrupted::-webkit-progress-bar {\n",
       "        background: #F44336;\n",
       "    }\n",
       "</style>\n"
      ],
      "text/plain": [
       "<IPython.core.display.HTML object>"
      ]
     },
     "metadata": {},
     "output_type": "display_data"
    },
    {
     "data": {
      "text/html": [
       "\n",
       "    <div>\n",
       "      <progress value='144441344' class='' max='144440600' style='width:300px; height:20px; vertical-align: middle;'></progress>\n",
       "      100.00% [144441344/144440600 00:17&lt;00:00]\n",
       "    </div>\n",
       "    "
      ],
      "text/plain": [
       "<IPython.core.display.HTML object>"
      ]
     },
     "metadata": {},
     "output_type": "display_data"
    }
   ],
   "source": [
    "from fastai.text.all import *\n",
    "path = untar_data(URLs.IMDB)"
   ]
  },
  {
   "cell_type": "code",
   "execution_count": 4,
   "metadata": {},
   "outputs": [],
   "source": [
    "files = get_text_files(path, folders = ['train', 'test', 'unsup'])"
   ]
  },
  {
   "cell_type": "code",
   "execution_count": 5,
   "metadata": {},
   "outputs": [
    {
     "data": {
      "text/plain": [
       "(#100000) [Path('/root/.fastai/data/imdb/test/neg/6201_1.txt'),Path('/root/.fastai/data/imdb/test/neg/11881_2.txt'),Path('/root/.fastai/data/imdb/test/neg/11690_1.txt'),Path('/root/.fastai/data/imdb/test/neg/7300_1.txt'),Path('/root/.fastai/data/imdb/test/neg/2931_1.txt'),Path('/root/.fastai/data/imdb/test/neg/11165_4.txt'),Path('/root/.fastai/data/imdb/test/neg/1026_2.txt'),Path('/root/.fastai/data/imdb/test/neg/11499_3.txt'),Path('/root/.fastai/data/imdb/test/neg/3201_1.txt'),Path('/root/.fastai/data/imdb/test/neg/429_3.txt')...]"
      ]
     },
     "execution_count": 5,
     "metadata": {},
     "output_type": "execute_result"
    }
   ],
   "source": [
    "files"
   ]
  },
  {
   "cell_type": "code",
   "execution_count": 7,
   "metadata": {},
   "outputs": [
    {
     "data": {
      "text/plain": [
       "\"I didn't know what to expect when I started watching this movie, by the end\""
      ]
     },
     "execution_count": 7,
     "metadata": {},
     "output_type": "execute_result"
    }
   ],
   "source": [
    "txt = files[0].open().read(); txt[:75]"
   ]
  },
  {
   "cell_type": "code",
   "execution_count": 8,
   "metadata": {},
   "outputs": [
    {
     "name": "stdout",
     "output_type": "stream",
     "text": [
      "(#212) ['I','did',\"n't\",'know','what','to','expect','when','I','started','watching','this','movie',',','by','the','end','of','it','I','was','pulling','my','hairs','out','.','This','was','one','of'...]\n"
     ]
    }
   ],
   "source": [
    "spacy = WordTokenizer()\n",
    "toks = first(spacy([txt]))\n",
    "print(coll_repr(toks, 30))"
   ]
  },
  {
   "cell_type": "code",
   "execution_count": 9,
   "metadata": {},
   "outputs": [
    {
     "data": {
      "text/plain": [
       "(#7) ['The','U.S.','dollar','1is1','is','1.00','.']"
      ]
     },
     "execution_count": 9,
     "metadata": {},
     "output_type": "execute_result"
    }
   ],
   "source": [
    "first(spacy(['The U.S. dollar 1is1 is 1.00.']))"
   ]
  },
  {
   "cell_type": "code",
   "execution_count": 11,
   "metadata": {},
   "outputs": [
    {
     "name": "stdout",
     "output_type": "stream",
     "text": [
      "(#231) ['xxbos','i','did',\"n't\",'know','what','to','expect','when','i','started','watching','this','movie',',','by','the','end','of','it','i','was','pulling','my','hairs','out','.','xxmaj','this','was','one'...]\n"
     ]
    }
   ],
   "source": [
    "tkn = Tokenizer(spacy)\n",
    "print(coll_repr(tkn(txt), 31))"
   ]
  },
  {
   "cell_type": "code",
   "execution_count": 12,
   "metadata": {},
   "outputs": [
    {
     "name": "stdout",
     "output_type": "stream",
     "text": [
      "(#11) ['xxbos','xxmaj','the','xxup','u.s','.','dollar','1is1','is','1.00','.']\n"
     ]
    }
   ],
   "source": [
    "print(coll_repr(tkn('The U.S. dollar 1is1 is 1.00.'), 31))"
   ]
  },
  {
   "cell_type": "code",
   "execution_count": 13,
   "metadata": {},
   "outputs": [
    {
     "data": {
      "text/plain": [
       "[<function fastai.text.core.fix_html(x)>,\n",
       " <function fastai.text.core.replace_rep(t)>,\n",
       " <function fastai.text.core.replace_wrep(t)>,\n",
       " <function fastai.text.core.spec_add_spaces(t)>,\n",
       " <function fastai.text.core.rm_useless_spaces(t)>,\n",
       " <function fastai.text.core.replace_all_caps(t)>,\n",
       " <function fastai.text.core.replace_maj(t)>,\n",
       " <function fastai.text.core.lowercase(t, add_bos=True, add_eos=False)>]"
      ]
     },
     "execution_count": 13,
     "metadata": {},
     "output_type": "execute_result"
    }
   ],
   "source": [
    "defaults.text_proc_rules"
   ]
  },
  {
   "cell_type": "code",
   "execution_count": 14,
   "metadata": {},
   "outputs": [
    {
     "data": {
      "text/plain": [
       "\"(#11) ['xxbos','©','xxmaj','fast.ai','xxrep','3','w','.fast.ai','/','xxup','index']\""
      ]
     },
     "execution_count": 14,
     "metadata": {},
     "output_type": "execute_result"
    }
   ],
   "source": [
    "coll_repr(tkn('&copy;   Fast.ai www.fast.ai/INDEX'), 31)"
   ]
  },
  {
   "cell_type": "markdown",
   "metadata": {},
   "source": [
    "### Subword Tokenization"
   ]
  },
  {
   "cell_type": "code",
   "execution_count": 15,
   "metadata": {},
   "outputs": [],
   "source": [
    "txts = L(o.open().read() for o in files[:2000])\n",
    "# L: Behaves like a list of items but can also index with list of indices or masks\n",
    "# 可以视作数组，有index"
   ]
  },
  {
   "cell_type": "code",
   "execution_count": 16,
   "metadata": {},
   "outputs": [
    {
     "data": {
      "text/plain": [
       "\"I didn't know what to expect when I started watching this movie, by the end of it I was pulling my hairs out. This was one of the most pathetic movies of this year...in fact, in the last ten years. David Dhawan should just give up his career as a director. I am yet to come across one original script that David Dhawan has worked on. This one was a complete bit y bit rip off Hitch. I have nothing against remakes as such, but this one is just so lousy that it makes you even hate the original one (which was pretty decent). I fail to understand what actors like Salman and Govinda saw in this script. I read somewhere, that this was supposed to be Govinda's comeback vehicle. If thats true, then only God can save his career. Salman just overacted to the hilt. Govinda who I think is an actor of very high caliber was completely wasted. Katrina Kaif and LAra Dutta had nothing to do apart form wearing designer clothes and smiling for no rhyme or reason. Please stay away form this one!\""
      ]
     },
     "execution_count": 16,
     "metadata": {},
     "output_type": "execute_result"
    }
   ],
   "source": [
    "txts[0]"
   ]
  },
  {
   "cell_type": "code",
   "execution_count": 17,
   "metadata": {},
   "outputs": [],
   "source": [
    "def subword(sz):\n",
    "    sp = SubwordTokenizer(vocab_sz=sz)\n",
    "    sp.setup(txts)\n",
    "    return ' '.join(first(sp([txt]))[:40])"
   ]
  },
  {
   "cell_type": "code",
   "execution_count": 18,
   "metadata": {},
   "outputs": [
    {
     "data": {
      "text/html": [
       "\n",
       "<style>\n",
       "    /* Turns off some styling */\n",
       "    progress {\n",
       "        /* gets rid of default border in Firefox and Opera. */\n",
       "        border: none;\n",
       "        /* Needs to be in here for Safari polyfill so background images work as expected. */\n",
       "        background-size: auto;\n",
       "    }\n",
       "    progress:not([value]), progress:not([value])::-webkit-progress-bar {\n",
       "        background: repeating-linear-gradient(45deg, #7e7e7e, #7e7e7e 10px, #5c5c5c 10px, #5c5c5c 20px);\n",
       "    }\n",
       "    .progress-bar-interrupted, .progress-bar-interrupted::-webkit-progress-bar {\n",
       "        background: #F44336;\n",
       "    }\n",
       "</style>\n"
      ],
      "text/plain": [
       "<IPython.core.display.HTML object>"
      ]
     },
     "metadata": {},
     "output_type": "display_data"
    },
    {
     "data": {
      "text/html": [],
      "text/plain": [
       "<IPython.core.display.HTML object>"
      ]
     },
     "metadata": {},
     "output_type": "display_data"
    },
    {
     "name": "stderr",
     "output_type": "stream",
     "text": [
      "sentencepiece_trainer.cc(178) LOG(INFO) Running command: --input=tmp/texts.out --vocab_size=1000 --model_prefix=tmp/spm --character_coverage=0.99999 --model_type=unigram --unk_id=9 --pad_id=-1 --bos_id=-1 --eos_id=-1 --minloglevel=2 --user_defined_symbols=▁xxunk,▁xxpad,▁xxbos,▁xxeos,▁xxfld,▁xxrep,▁xxwrep,▁xxup,▁xxmaj --hard_vocab_limit=false\n"
     ]
    },
    {
     "data": {
      "text/plain": [
       "\"▁I ▁didn ' t ▁know ▁what ▁to ▁expect ▁when ▁I ▁start ed ▁watching ▁this ▁movie , ▁by ▁the ▁end ▁of ▁it ▁I ▁was ▁p u ll ing ▁my ▁ ha ir s ▁out . ▁This ▁was ▁one ▁of ▁the ▁most\""
      ]
     },
     "execution_count": 18,
     "metadata": {},
     "output_type": "execute_result"
    }
   ],
   "source": [
    "subword(1000)"
   ]
  },
  {
   "cell_type": "code",
   "execution_count": 19,
   "metadata": {},
   "outputs": [
    {
     "data": {
      "text/html": [
       "\n",
       "<style>\n",
       "    /* Turns off some styling */\n",
       "    progress {\n",
       "        /* gets rid of default border in Firefox and Opera. */\n",
       "        border: none;\n",
       "        /* Needs to be in here for Safari polyfill so background images work as expected. */\n",
       "        background-size: auto;\n",
       "    }\n",
       "    progress:not([value]), progress:not([value])::-webkit-progress-bar {\n",
       "        background: repeating-linear-gradient(45deg, #7e7e7e, #7e7e7e 10px, #5c5c5c 10px, #5c5c5c 20px);\n",
       "    }\n",
       "    .progress-bar-interrupted, .progress-bar-interrupted::-webkit-progress-bar {\n",
       "        background: #F44336;\n",
       "    }\n",
       "</style>\n"
      ],
      "text/plain": [
       "<IPython.core.display.HTML object>"
      ]
     },
     "metadata": {},
     "output_type": "display_data"
    },
    {
     "data": {
      "text/html": [],
      "text/plain": [
       "<IPython.core.display.HTML object>"
      ]
     },
     "metadata": {},
     "output_type": "display_data"
    },
    {
     "data": {
      "text/plain": [
       "\"▁I ▁di d n ' t ▁ k n o w ▁w h at ▁to ▁ e x p e c t ▁w h en ▁I ▁st ar t ed ▁w at ch ing ▁this ▁movie , ▁ b y\""
      ]
     },
     "execution_count": 19,
     "metadata": {},
     "output_type": "execute_result"
    }
   ],
   "source": [
    "subword(200)"
   ]
  },
  {
   "cell_type": "code",
   "execution_count": 20,
   "metadata": {},
   "outputs": [
    {
     "data": {
      "text/html": [
       "\n",
       "<style>\n",
       "    /* Turns off some styling */\n",
       "    progress {\n",
       "        /* gets rid of default border in Firefox and Opera. */\n",
       "        border: none;\n",
       "        /* Needs to be in here for Safari polyfill so background images work as expected. */\n",
       "        background-size: auto;\n",
       "    }\n",
       "    progress:not([value]), progress:not([value])::-webkit-progress-bar {\n",
       "        background: repeating-linear-gradient(45deg, #7e7e7e, #7e7e7e 10px, #5c5c5c 10px, #5c5c5c 20px);\n",
       "    }\n",
       "    .progress-bar-interrupted, .progress-bar-interrupted::-webkit-progress-bar {\n",
       "        background: #F44336;\n",
       "    }\n",
       "</style>\n"
      ],
      "text/plain": [
       "<IPython.core.display.HTML object>"
      ]
     },
     "metadata": {},
     "output_type": "display_data"
    },
    {
     "data": {
      "text/html": [],
      "text/plain": [
       "<IPython.core.display.HTML object>"
      ]
     },
     "metadata": {},
     "output_type": "display_data"
    },
    {
     "data": {
      "text/plain": [
       "\"▁I ▁didn ' t ▁know ▁what ▁to ▁expect ▁when ▁I ▁started ▁watching ▁this ▁movie , ▁by ▁the ▁end ▁of ▁it ▁I ▁was ▁pull ing ▁my ▁hair s ▁out . ▁This ▁was ▁one ▁of ▁the ▁most ▁pathetic ▁movies ▁of ▁this ▁year\""
      ]
     },
     "execution_count": 20,
     "metadata": {},
     "output_type": "execute_result"
    }
   ],
   "source": [
    "subword(10000)"
   ]
  },
  {
   "cell_type": "markdown",
   "metadata": {},
   "source": [
    "### Numericalization with fastai"
   ]
  },
  {
   "cell_type": "code",
   "execution_count": 21,
   "metadata": {},
   "outputs": [
    {
     "name": "stdout",
     "output_type": "stream",
     "text": [
      "(#231) ['xxbos','i','did',\"n't\",'know','what','to','expect','when','i','started','watching','this','movie',',','by','the','end','of','it','i','was','pulling','my','hairs','out','.','xxmaj','this','was','one'...]\n"
     ]
    }
   ],
   "source": [
    "toks = tkn(txt)\n",
    "print(coll_repr(tkn(txt), 31))"
   ]
  },
  {
   "cell_type": "markdown",
   "metadata": {},
   "source": [
    "对txt中前200个文件进行处理，使用tkn这个tokenizer对所有的文件进行tokenize"
   ]
  },
  {
   "cell_type": "code",
   "execution_count": 22,
   "metadata": {},
   "outputs": [
    {
     "data": {
      "text/plain": [
       "(#231) ['xxbos','i','did',\"n't\",'know','what','to','expect','when','i'...]"
      ]
     },
     "execution_count": 22,
     "metadata": {},
     "output_type": "execute_result"
    }
   ],
   "source": [
    "toks200 = txts[:200].map(tkn)\n",
    "toks200[0]"
   ]
  },
  {
   "cell_type": "code",
   "execution_count": 23,
   "metadata": {},
   "outputs": [
    {
     "data": {
      "text/plain": [
       "(#200) [['xxbos', 'i', 'did', \"n't\", 'know', 'what', 'to', 'expect', 'when', 'i', 'started', 'watching', 'this', 'movie', ',', 'by', 'the', 'end', 'of', 'it', 'i', 'was', 'pulling', 'my', 'hairs', 'out', '.', 'xxmaj', 'this', 'was', 'one', 'of', 'the', 'most', 'pathetic', 'movies', 'of', 'this', 'year', '…', 'in', 'fact', ',', 'in', 'the', 'last', 'ten', 'years', '.', 'xxmaj', 'david', 'xxmaj', 'dhawan', 'should', 'just', 'give', 'up', 'his', 'career', 'as', 'a', 'director', '.', 'i', 'am', 'yet', 'to', 'come', 'across', 'one', 'original', 'script', 'that', 'xxmaj', 'david', 'xxmaj', 'dhawan', 'has', 'worked', 'on', '.', 'xxmaj', 'this', 'one', 'was', 'a', 'complete', 'bit', 'y', 'bit', 'rip', 'off', 'xxmaj', 'hitch', '.', 'i', 'have', 'nothing', 'against', 'remakes', 'as', 'such', ',', 'but', 'this', 'one', 'is', 'just', 'so', 'lousy', 'that', 'it', 'makes', 'you', 'even', 'hate', 'the', 'original', 'one', '(', 'which', 'was', 'pretty', 'decent', ')', '.', 'i', 'fail', 'to', 'understand', 'what', 'actors', 'like', 'xxmaj', 'salman', 'and', 'xxmaj', 'govinda', 'saw', 'in', 'this', 'script', '.', 'i', 'read', 'somewhere', ',', 'that', 'this', 'was', 'supposed', 'to', 'be', 'xxmaj', 'govinda', \"'s\", 'comeback', 'vehicle', '.', 'xxmaj', 'if', 'that', 's', 'true', ',', 'then', 'only', 'xxmaj', 'god', 'can', 'save', 'his', 'career', '.', 'xxmaj', 'salman', 'just', 'overacted', 'to', 'the', 'hilt', '.', 'xxmaj', 'govinda', 'who', 'i', 'think', 'is', 'an', 'actor', 'of', 'very', 'high', 'caliber', 'was', 'completely', 'wasted', '.', 'xxmaj', 'katrina', 'xxmaj', 'kaif', 'and', 'lara', 'xxmaj', 'dutta', 'had', 'nothing', 'to', 'do', 'apart', 'form', 'wearing', 'designer', 'clothes', 'and', 'smiling', 'for', 'no', 'rhyme', 'or', 'reason', '.', 'xxmaj', 'please', 'stay', 'away', 'form', 'this', 'one', '!'],['xxbos', 'xxmaj', 'for', 'several', 'reasons', ',', 'this', 'movie', 'is', 'simply', 'awful', '.', 'xxmaj', 'other', 'posters', 'have', 'listed', 'some', 'of', 'this', 'movie', \"'s\", 'historical', 'errors', '.', 'xxmaj', 'well', ',', 'i', 'have', 'a', 'layman', \"'s\", 'knowledge', 'of', 'xxmaj', 'roman', 'history', 'and', 'even', 'i', 'found', 'the', 'inaccuracies', 'flagrant', '.', 'i', 'usually', 'forgive', 'errors', 'in', 'historical', 'movies', 'because', 'i', 'understand', 'that', 'the', 'purpose', 'is', 'to', 'entertain', 'not', 'educate', '.', 'xxmaj', 'and', 'shrinking', 'a', 'long', 'saga', 'down', 'to', 'a', 'two', 'hour', 'feature', 'requires', 'some', ',', 'let', \"'s\", 'say', ',', 'historical', 'license', '.', 'xxmaj', 'but', 'this', 'movie', 'goes', 'well', 'beyond', 'mere', 'rounding', '.', '\\n\\n', 'xxmaj', 'there', \"'s\", 'worse', '.', 'xxmaj', 'to', 'tell', 'a', 'story', 'from', 'a', 'distant', 'period', ',', 'the', 'movie', 'uses', 'flashbacks', 'which', 'just', 'make', 'the', 'story', 'more', 'confusing', '.', 'xxmaj', 'unless', 'viewers', 'have', 'some', 'prior', 'knowledge', 'of', 'the', 'period', ',', 'they', 'will', 'quickly', 'be', 'lost', '.', 'xxmaj', 'in', 'addition', ',', 'the', 'movie', 'was', 'obviously', 'filmed', 'simultaneously', 'in', 'xxmaj', 'italian', 'and', 'xxmaj', 'english', 'with', 'various', 'actors', 'being', 'dubbed', 'later', '.', 'xxmaj', 'at', 'times', ',', 'the', 'actors', 'seem', 'as', 'if', 'they', 'were', 'in', 'completely', 'different', 'movies', 'which', 'were', 'then', 'edited', 'together', '.', 'xxmaj', 'in', 'fact', ',', 'this', 'is', 'not', 'far', 'wrong', '.', 'xxmaj', 'the', 'actors', 'were', 'obviously', 'pasted', 'onto', 'a', 'cheesy', 'computer', 'generated', 'ancient', 'xxmaj', 'rome', '.', '\\n\\n', 'xxmaj', 'the', 'only', 'reason', 'i', 'give', 'this', 'boring', 'mess', 'any', 'stars', 'is', 'because', 'i', 'always', 'find', 'xxmaj', 'peter', \"o'toole\", 'entertaining', '.', 'xxmaj', 'but', 'that', 'is', 'no', 'reason', 'to', 'rent', 'it', '.', 'xxmaj', 'if', 'you', 'are', 'curious', 'about', 'xxmaj', 'roman', 'history', ',', 'there', 'are', 'much', 'better', 'movies', 'available', '.'],['xxbos', 'xxmaj', 'remember', 'those', 'terrible', 'war', 'movies', 'your', 'grandmother', 'forced', 'you', 'to', 'watch', '25', 'or', 'so', 'years', 'ago', 'on', 'your', 'old', 'xxup', 'vhs', 'recorder', '?', '\"', 'the', 'xxmaj', 'fallen', '\"', 'is', 'just', 'a', 'bad', 'executed', 'remake', 'of', 'those', 'movies', '!', 'xxmaj', 'the', 'story', 'is', 'terrible', ',', 'the', 'direction', 'is', 'terrible', ',', 'the', 'editing', 'is', 'terrible', ',', 'the', 'music', 'is', 'terrible', ',', 'and', 'all', 'together', 'make', 'an', 'unbearable', 'nightmare', '.', '\\n\\n', 'xxmaj', 'it', 'is', 'also', 'terribly', 'slow', '!', 'xxmaj', 'very', 'slow', '!', 'i', 'tried', 'to', 'sleep', 'while', 'watching', 'it', 'but', 'i', 'could', \"n't\", 'do', 'it', 'because', 'i', 'had', 'nightmares', 'of', 'it', '.', '\\n\\n', 'xxmaj', 'please', 'do', \"n't\", 'watch', 'this', 'movie', '!', 'xxmaj', 'it', 'is', 'xxup', 'that', 'bad', '!', 'xxmaj', 'ten', 'lines', 'is', 'a', 'lot', 'so', 'i', 'do', \"n't\", 'know', 'what', 'else', 'to', 'say', '.', '\\n\\n', 'xxmaj', 'press', 'the', 'eject', 'button', 'xxup', 'now', 'and', 'you', 'wo', 'nt', 'regret', 'it', '!'],['xxbos', 'a', 'post', '-', 'apocalyptic', 'warrior', 'goes', 'off', 'to', 'save', 'some', 'kind', 'of', 'xxmaj', 'nun', 'and', 'on', 'the', 'way', 'meets', 'some', 'cyber', '-', 'punks', 'on', 'skates', 'who', 'want', 'to', 'kick', 'his', 'ass', '.', 'xxmaj', 'this', 'is', 'one', 'of', 'the', 'hardest', 'to', 'watch', 'films', 'ever', ',', 'xxmaj', 'there', 'are', 'scenes', 'with', 'silence', 'that', 'seems', 'to', 'last', 'hours', 'before', 'somebody', 'comes', 'out', 'with', 'the', 'next', 'badly', 'written', ',', 'badly', 'acted', 'line', '.', 'xxmaj', 'there', 'are', 'action', 'sequences', 'that', 'keep', 'repeating', '-', 'and', 'we', \"'re\", 'not', 'talking', 'the', 'quickfire', '1', '-', '2', '-', '3', 'action', 'repeat', 'on', 'a', 'particularly', 'good', 'kick', 'that', 'was', 'made', 'popular', 'by', 'eastern', 'directors', ',', 'we', \"'re\", 'talking', 'many', ',', 'many', 'repeats', 'of', 'long', ',', 'bad', 'fight', 'sequences', '.', 'xxmaj', 'this', 'is', 'incredibly', 'confusing', 'at', 'first', 'but', 'then', 'quickly', 'becomes', 'annoying', 'as', 'you', \"'re\", 'watching', 'a', '30', 'second', 'sequence', 'for', 'the', '2nd', ',', '3rd', 'and', '4th', 'time', '.', 'xxmaj', 'any', 'kind', 'of', 'plot', 'or', 'vision', 'is', 'lost', 'within', 'the', 'confusing', 'continuity', ',', 'the', 'only', 'thing', 'that', 's', 'keeps', 'this', 'film', 'in', 'the', 'videoplayer', '(', 'apart', 'from', 'the', 'bet', 'from', 'a', 'friend', 'that', 'i', 'could', \"n't\", 'watch', 'it', 'all', 'the', 'way', 'through', 'without', 'begging', 'for', 'it', 'to', 'be', 'turned', 'off', 'and', 'disposed', 'off', 'safely', 'so', 'it', 'may', 'harm', 'no', '-', 'one', 'else', ')', 'is', 'the', 'fact', 'that', 'although', 'painful', ',', 'this', 'film', 'is', 'unintentionally', 'hilarious', ',', 'i', \"'m\", 'not', 'at', 'all', 'a', 'fan', 'of', 'those', '\"', 'so', 'bad', 'that', 'it', \"'s\", 'funny', '\"', 'type', 'of', 'films', 'but', 'at', 'parts', 'i', 'was', 'in', 'tears', '.', 'xxmaj', 'other', 'points', 'to', 'note', 'are', 'the', 'quality', 'of', 'the', 'sound', 'and', 'picture', 'but', 'this', 'is', 'forgiveable', 'as', 'it', \"'s\", 'obvious', 'money', 'was', 'a', 'major', 'problem', 'in', 'the', 'making', 'of', 'this', 'film', '.', 'xxmaj', 'final', 'verdict', '-', 'xxmaj', 'king', 'of', 'the', '\"', 'so', 'bad', 'they', \"'re\", 'funny', '\"', 'genre', ',', 'anybody', 'having', 'that', 'kind', 'of', 'genre', 'video', 'night', 'should', 'get', 'themselves', 'a', 'copy', '.', 'xxmaj', 'also', 'lets', 'not', 'forget', 'that', 'it', 'is', 'actually', 'the', 'worst', 'film', 'i', \"'ve\", 'ever', 'seen', '.'],['xxbos', 'i', 'believe', 'that', 'this', 'movie', 'was', 'a', 'terrible', 'waste', 'of', 'my', 'time', ',', 'and', 'i', 'would', 'know', 'after', 'watching', 'it', '5', 'times', 'in', 'class', '.', 'this', 'movie', 'does', 'not', 'show', 'what', 'absolutely', 'perfectly', 'happened', 'during', 'these', 'times', '.', 'no', 'one', 'can', 'truly', 'say', 'that', 'these', 'things', 'happened', 'to', 'the', 'letter', '.', 'if', 'anything', 'the', 'only', 'good', 'part', 'would', 'be', 'the', 'actors', ',', 'even', 'tho', 'that', 'they', 'were', 'really', 'really', 'crap.they', 'were', 'reading', 'the', 'script', 'without', 'expression', '.', 'quite', 'boring', '.', 'i', 'would', 'rather', 'watch', 'play', 'school', '.', 'so', 'i', 'would', 'definitely', 'like', 'to', 'never', 'ever', 'see', 'this', 'movie', 'again', 'in', 'my', 'whole', 'life', '.', 'it', 'is', 'a', 'complete', 'waste', 'of', 'time', 'unless', 'you', 'want', 'your', 'time', 'to', 'be', 'wasted', 'and', 'if', 'you', 'would', 'like', 'to', 'see', 'an', 'unrealistic', 'view', 'of', 'what', 'happened', 'back', 'in', '1981', '.'],['xxbos', 'i', 'have', 'recently', 'found', 'this', 'film', 'on', 'one', 'of', 'my', 'husband', \"'s\", 'xxup', 'vhs', 'tapes', '(', 'the', 'blank', 'variety', 'which', 'he', 'uses', 'to', 'record', 'stuff', 'from', 'the', 'telly', ')', '.', 'xxmaj', 'the', 'film', 'looks', 'as', 'if', 'it', 'was', 'last', 'shown', 'in', 'the', 'eighties', 'and', 'i', 'do', \"n't\", 'remember', 'having', 'seen', 'it', 'since', '.', 'xxmaj', 'it', 'has', 'not', '(', 'to', 'my', 'knowledge', ')', 'been', 'released', 'on', 'xxup', 'dvd', 'or', 'xxup', 'vhs', 'although', 'i', 'shall', 'browse', 'around', 'for', 'a', 'copy', '.', '\\n\\n', 'xxmaj', 'the', 'film', 'tells', 'the', 'story', 'of', 'three', 'young', 'people', ':', 'two', 'girls', ',', 'one', 'on', 'the', 'edge', 'of', 'puberty', 'and', 'the', 'other', 'much', 'younger', ',', 'and', 'a', 'young', 'boy', 'who', 'go', 'to', 'live', 'with', 'their', 'mother', \"'s\", 'brother', 'and', 'his', 'young', ',', 'mute', 'xxmaj', 'irish', 'wife', '.', 'xxmaj', 'his', 'wife', 'also', 'has', 'two', 'brothers', 'who', 'live', 'with', 'them', '.', 'xxmaj', 'the', 'children', \"'s\", 'uncle', 'is', 'an', 'unpleasant', 'control', 'freak', 'who', 'forces', 'his', 'young', 'wife', 'to', 'wear', 'a', 'silver', 'collar', 'whilst', 'she', 'watches', 'a', 'marionette', 'show', 'put', 'on', 'by', 'him', 'and', 'her', 'brothers', 'in', 'his', 'toyshop', '.', '\\n\\n', 'xxmaj', 'the', 'eldest', 'girl', 'and', 'one', 'of', 'the', 'xxmaj', 'irishmen', '(', 'the', 'younger', ')', 'develop', 'a', 'love', 'for', 'each', 'other', 'whilst', 'they', 'live', 'in', 'the', 'same', 'house', '.', 'xxmaj', 'the', 'girl', 'helps', 'her', 'aunt', 'out', 'in', 'the', 'shop', 'whilst', 'her', 'brother', 'helps', 'his', 'uncle', 'to', 'make', 'things', 'in', 'the', 'workshop', '.', '\\n\\n', 'xxmaj', 'there', 'are', 'a', 'lot', 'of', 'very', 'disturbing', 'elements', 'to', 'the', 'film', '.', 'xxmaj', 'there', 'is', 'the', 'uncle', \"'s\", 'treatment', 'of', 'his', 'wife', 'as', 'some', 'kind', 'of', 'dumb', '(', 'literally', ')', 'possession', '(', 'illustrated', 'by', 'the', 'collar', ')', 'whilst', 'the', 'xxmaj', 'irish', 'indulge', 'dancing', ',', 'drinking', 'and', 'somewhat', 'forbidden', 'love', '.', 'xxmaj', 'interestingly', ',', 'though', ',', 'i', 'have', 'seen', 'far', 'more', 'explicit', 'themes', 'played', 'out', 'in', 'other', 'movies', 'made', 'in', 'xxmaj', 'hollywood', 'today', '.', '\\n\\n', 'xxmaj', 'makes', 'you', 'wonder', 'whether', 'the', 'xxmaj', 'british', 'film', 'industry', 'and', 'the', 'xxup', 'bbc', 'have', 'some', 'kind', 'of', 'hidden', 'agenda', 'going', 'on', '.', '\\n\\n', 'xxmaj', 'still', ',', 'despite', 'it', 'not', 'being', 'a', 'children', \"'s\", 'movie', ',', 'there', 'are', 'a', 'lot', 'of', 'playful', ',', 'magic', 'moments', 'in', 'it', 'and', 'the', 'one', 'xxmaj', 'irishman', 'does', 'some', 'beautiful', 'paintings', '.'],['xxbos', 'xxmaj', 'although', 'there', 'is', 'very', 'little', 'plot', 'and', 'whatever', 'exists', 'is', 'just', 'all', 'improvisational', ',', 'still', 'it', 'was', 'a', 'good', 'start', 'from', 'a', 'new', 'director', 'with', 'no', 'previous', 'financial', 'back', 'up', 'and', 'also', 'a', 'smart', 'move', 'from', 'xxmaj', 'andy', 'xxmaj', 'warhol', 'to', 'make', 'his', 'cimematic', 'productions', 'more', 'marketable', 'and', 'viewer', '-', 'friendly', '.', 'xxmaj', 'in', 'any', 'case', 'this', 'story', 'of', 'a', 'street', 'hustler', 'relies', 'too', 'much', 'on', 'showing', 'xxmaj', 'joe', 'buck', 'naked', '(', 'almost', 'all', 'the', 'time', '!', ')', '.', 'xxmaj', 'and', 'the', 'creative', 'use', 'of', 'a', 'flashy', 'editing', 'really', 'wears', 'off', 'after', 'the', 'hundredth', 'time', 'and', 'the', 'cutting', 'off', 'the', 'dialog', 'thing', 'gets', 'really', 'annoying', 'half', '-', 'way', '.', 'xxmaj', 'this', 'would', 'have', 'been', 'a', 'much', 'more', 'entertaining', 'or', 'even', 'dramatic', 'if', 'they', 'made', 'a', 'documentary', 'of', 'the', 'daily', 'of', 'an', 'actual', 'male', 'prostitute', 'or', 'hustler', ',', 'instead', 'of', 'letting', 'the', 'actors', 'make', 'up', 'some', 'nonesensical', 'plot', 'and', 'dialog', 'of', 'their', 'own', '.'],['xxbos', 'xxmaj', 'frederick', 'xxmaj', 'forsyth', \"'s\", 'books', 'are', 'always', 'so', 'intricately', 'plotted', ',', 'with', 'twists', 'and', 'turns', ',', 'and', 'usually', 'a', 'great', 'surprise', 'ending', '.', 'xxmaj', 'this', 'adaptation', 'had', 'none', 'of', 'that', '.', '\\n\\n', 'xxmaj', 'so', 'much', 'of', 'what', 'was', 'great', 'in', 'the', 'book', '(', 'the', 'history', 'of', 'xxmaj', 'monk', 'and', 'the', 'betrayed', 'agents', ';', 'the', 'plot', 'to', 'influence', 'the', 'outcome', 'of', 'the', 'xxmaj', 'russian', 'election', ')', 'were', 'completely', 'missing', 'in', 'this', 'adaptation', '.', 'xxmaj', 'instead', ',', 'there', \"'s\", 'this', 'completely', 'new', 'plot', 'about', 'bio', '-', 'weapons', 'that', 'was', 'a', 'yawner', '.', '\\n\\n', 'xxmaj', 'forsyth', \"'s\", 'protagonists', 'always', 'operated', 'in', 'the', 'shadows', ',', 'forever', 'just', 'slightly', 'beyond', 'the', 'reach', 'of', 'the', 'antagonists', '.', 'xxmaj', 'the', 'joys', 'of', 'his', 'books', 'have', 'always', 'been', 'the', 'machinations', 'of', 'carrying', 'out', 'their', 'mission', '.', 'xxmaj', 'this', 'film', 'resigned', 'itself', 'to', 'gunfights', 'and', 'car', 'chases', 'early', 'on', '.', '\\n\\n', 'xxmaj', 'swayze', \"'s\", 'xxmaj', 'monk', 'might', 'as', 'well', 'have', 'hung', 'a', 'sign', 'around', 'his', 'neck', 'saying', '\"', 'i', 'xxup', 'am', 'a', 'xxup', 'secret', 'xxup', 'agent', '\"', 'for', 'all', 'the', 'attention', 'that', 'he', 'called', 'to', 'himself', 'during', 'the', 'film', '.', 'xxmaj', 'and', 'with', 'all', 'of', 'that', 'attention', ',', 'the', 'amount', 'of', 'time', 'that', 'it', 'took', 'the', 'bad', 'guys', 'to', 'catch', 'up', 'to', 'him', 'was', 'surprising', '.', '\\n\\n', 'xxmaj', 'granted', 'there', 'was', 'some', 'energy', 'to', 'this', 'film', ',', 'which', 'is', 'why', 'xxmaj', 'i', \"'m\", 'giving', 'it', 'a', '\"', '3', '\"', 'instead', 'of', 'a', '\"', '1', '\"', '.', 'xxmaj', 'it', 'was', 'also', 'great', 'to', 'see', 'some', 'underutilized', 'pros', 'like', 'xxmaj', 'patrick', 'xxmaj', 'bergin', ',', 'xxmaj', 'ben', 'xxmaj', 'cross', ',', 'xxmaj', 'michael', 'xxmaj', 'york', ',', 'and', 'xxmaj', 'barry', 'xxmaj', 'morse', '.', '\\n\\n', 'i', 'hope', 'that', 'someday', ',', 'someone', 'will', 'once', 'again', 'do', 'justice', 'to', 'a', 'xxmaj', 'forsyth', 'film', 'adaptation', 'like', '\"', 'day', 'of', 'the', 'xxmaj', 'jackal', '\"', 'did', '.'],['xxbos', 'xxmaj', 'after', '30', 'minutes', '..', 'mostly', 'fast', 'forwarding', ',', 'deleted', 'it', 'off', 'my', 'recorder', '.', 'xxmaj', 'the', 'first', 'xxmaj', 'critters', 'movie', 'was', 'self', '-', 'consciously', 'fun', ',', 'xxmaj', 'the', '\"', 'conversation', '\"', 'between', 'the', 'critters', 'just', 'before', 'xxmaj', 'granny', 'blows', 'them', 'away', 'off', 'the', 'porch', ',', 'for', 'example', '.', 'xxmaj', 'this', 'film', 'just', 'limps', 'along', ',', 'waiting', 'for', 'someone', 'to', 'shoot', 'it', 'and', 'put', 'it', 'out', 'of', 'your', 'misery', '.', '\\n\\n', 'i', 'ca', \"n't\", 'imagine', 'anyone', 'who', 'worked', 'on', 'this', 'turkey', 'being', 'proud', 'of', 'it', '.', '\\n\\n', 'xxmaj', 'one', 'was', 'fun', ',', 'four', 'just', 'was', 'awful', '.', 'xxmaj', 'do', \"n't\", 'bother', 'even', 'if', 'the', 'alternative', 'is', 'watching', 'reruns', 'of', 'a', 'xxup', 'tbs', '\"', '700', 'xxmaj', 'club', '\"', 'fund', '-', 'raiser', ',', 'you', \"'ll\", 'at', 'least', 'get', 'some', 'good', 'laughs', 'there', '(', 'and', 'the', '\"', 'alien', '\"', 'makeup', 'is', 'more', 'believable', '..', 'grin', ')', '.'],['xxbos', 'xxmaj', 'an', 'xxmaj', 'american', 'xxmaj', 'werewolf', 'in', 'xxmaj', 'paris', 'was', \"n't\", 'really', 'that', 'good', 'compared', 'to', 'the', 'original.the', 'original', 'did', \"n't\", 'use', 'computer', 'effects', 'for', 'the', 'werewolf', 'and', 'they', 'looked', 'more', 'realistic', '.the', 'werewolf', 'effects', 'in', 'this', 'film', 'looked', 'too', 'cartoonish.most', 'of', 'all', ',', 'the', 'movie', 'did', 'not', 'have', 'enough', 'for', 'me', 'for', 'a', 'horror', 'film', 'to', 'enjoy', '.']...]"
      ]
     },
     "execution_count": 23,
     "metadata": {},
     "output_type": "execute_result"
    }
   ],
   "source": [
    "toks200"
   ]
  },
  {
   "cell_type": "markdown",
   "metadata": {},
   "source": [
    "关于Numericalize的setup函数：\n",
    "在代码中是这样计数的：\n",
    "```Python\n",
    "count = dsets.counter if getattr(dsets, 'counter', None) is not None else Counter(p for o in dsets for p in o)\n",
    "```\n",
    "Counter中传入的要求是一个二维数组/数组内还有数组，如果传入的是`toks200[0]`的话counter中的dsets是列表，o是单词，p是每个字符abcd...，所以输出的结果中全是单字母形式；如果传入的是`toks200`，那么counter中的dsets是二维列表，o就是每个`toks200[i]`列表，p才是单词。"
   ]
  },
  {
   "cell_type": "code",
   "execution_count": 24,
   "metadata": {},
   "outputs": [
    {
     "data": {
      "text/plain": [
       "\"(#1880) ['xxunk','xxpad','xxbos','xxeos','xxfld','xxrep','xxwrep','xxup','xxmaj','the','.',',','a','of','and','to','is','it','i','this'...]\""
      ]
     },
     "execution_count": 24,
     "metadata": {},
     "output_type": "execute_result"
    }
   ],
   "source": [
    "num = Numericalize()\n",
    "num.setup(toks200)\n",
    "coll_repr(num.vocab,20)"
   ]
  },
  {
   "cell_type": "code",
   "execution_count": 25,
   "metadata": {},
   "outputs": [
    {
     "data": {
      "text/plain": [
       "TensorText([  2,  18,  91,  33, 144,  62,  15, 452,  72,  18, 925, 151,  19,  27,  11,  68,   9, 135,  13,  17])"
      ]
     },
     "execution_count": 25,
     "metadata": {},
     "output_type": "execute_result"
    }
   ],
   "source": [
    "nums = num(toks)[:20]; nums"
   ]
  },
  {
   "cell_type": "code",
   "execution_count": 26,
   "metadata": {},
   "outputs": [
    {
     "data": {
      "text/plain": [
       "\"xxbos i did n't know what to expect when i started watching this movie , by the end of it\""
      ]
     },
     "execution_count": 26,
     "metadata": {},
     "output_type": "execute_result"
    }
   ],
   "source": [
    "' '.join(num.vocab[o] for o in nums)"
   ]
  },
  {
   "cell_type": "markdown",
   "metadata": {},
   "source": [
    "### Putting Our Texts into Batches for a Language Model"
   ]
  },
  {
   "cell_type": "code",
   "execution_count": 29,
   "metadata": {},
   "outputs": [
    {
     "data": {
      "text/html": [
       "<table border=\"1\" class=\"dataframe\">\n",
       "  <tbody>\n",
       "    <tr>\n",
       "      <td>xxbos</td>\n",
       "      <td>xxmaj</td>\n",
       "      <td>in</td>\n",
       "      <td>this</td>\n",
       "      <td>chapter</td>\n",
       "      <td>,</td>\n",
       "      <td>we</td>\n",
       "      <td>will</td>\n",
       "      <td>go</td>\n",
       "      <td>back</td>\n",
       "      <td>over</td>\n",
       "      <td>the</td>\n",
       "      <td>example</td>\n",
       "      <td>of</td>\n",
       "      <td>classifying</td>\n",
       "    </tr>\n",
       "    <tr>\n",
       "      <td>movie</td>\n",
       "      <td>reviews</td>\n",
       "      <td>we</td>\n",
       "      <td>studied</td>\n",
       "      <td>in</td>\n",
       "      <td>chapter</td>\n",
       "      <td>1</td>\n",
       "      <td>and</td>\n",
       "      <td>dig</td>\n",
       "      <td>deeper</td>\n",
       "      <td>under</td>\n",
       "      <td>the</td>\n",
       "      <td>surface</td>\n",
       "      <td>.</td>\n",
       "      <td>xxmaj</td>\n",
       "    </tr>\n",
       "    <tr>\n",
       "      <td>first</td>\n",
       "      <td>we</td>\n",
       "      <td>will</td>\n",
       "      <td>look</td>\n",
       "      <td>at</td>\n",
       "      <td>the</td>\n",
       "      <td>processing</td>\n",
       "      <td>steps</td>\n",
       "      <td>necessary</td>\n",
       "      <td>to</td>\n",
       "      <td>convert</td>\n",
       "      <td>text</td>\n",
       "      <td>into</td>\n",
       "      <td>numbers</td>\n",
       "      <td>and</td>\n",
       "    </tr>\n",
       "    <tr>\n",
       "      <td>how</td>\n",
       "      <td>to</td>\n",
       "      <td>customize</td>\n",
       "      <td>it</td>\n",
       "      <td>.</td>\n",
       "      <td>xxmaj</td>\n",
       "      <td>by</td>\n",
       "      <td>doing</td>\n",
       "      <td>this</td>\n",
       "      <td>,</td>\n",
       "      <td>we</td>\n",
       "      <td>'ll</td>\n",
       "      <td>have</td>\n",
       "      <td>another</td>\n",
       "      <td>example</td>\n",
       "    </tr>\n",
       "    <tr>\n",
       "      <td>of</td>\n",
       "      <td>the</td>\n",
       "      <td>preprocessor</td>\n",
       "      <td>used</td>\n",
       "      <td>in</td>\n",
       "      <td>the</td>\n",
       "      <td>data</td>\n",
       "      <td>block</td>\n",
       "      <td>xxup</td>\n",
       "      <td>api</td>\n",
       "      <td>.</td>\n",
       "      <td>\\n</td>\n",
       "      <td>xxmaj</td>\n",
       "      <td>then</td>\n",
       "      <td>we</td>\n",
       "    </tr>\n",
       "    <tr>\n",
       "      <td>will</td>\n",
       "      <td>study</td>\n",
       "      <td>how</td>\n",
       "      <td>we</td>\n",
       "      <td>build</td>\n",
       "      <td>a</td>\n",
       "      <td>language</td>\n",
       "      <td>model</td>\n",
       "      <td>and</td>\n",
       "      <td>train</td>\n",
       "      <td>it</td>\n",
       "      <td>for</td>\n",
       "      <td>a</td>\n",
       "      <td>while</td>\n",
       "      <td>.</td>\n",
       "    </tr>\n",
       "  </tbody>\n",
       "</table>"
      ],
      "text/plain": [
       "<IPython.core.display.HTML object>"
      ]
     },
     "metadata": {},
     "output_type": "display_data"
    }
   ],
   "source": [
    "stream = \"In this chapter, we will go back over the example of classifying movie reviews we studied in chapter 1 and dig deeper under the surface. First we will look at the processing steps necessary to convert text into numbers and how to customize it. By doing this, we'll have another example of the PreProcessor used in the data block API.\\nThen we will study how we build a language model and train it for a while.\"\n",
    "tokens = tkn(stream)\n",
    "bs,seq_len = 6,15\n",
    "d_tokens = np.array([tokens[i*seq_len:(i+1)*seq_len] for i in range(bs)])\n",
    "df = pd.DataFrame(d_tokens)\n",
    "display(HTML(df.to_html(index=False,header=None)))"
   ]
  },
  {
   "cell_type": "code",
   "execution_count": 30,
   "metadata": {},
   "outputs": [
    {
     "data": {
      "text/html": [
       "<table border=\"1\" class=\"dataframe\">\n",
       "  <tbody>\n",
       "    <tr>\n",
       "      <td>xxbos</td>\n",
       "      <td>xxmaj</td>\n",
       "      <td>in</td>\n",
       "      <td>this</td>\n",
       "      <td>chapter</td>\n",
       "    </tr>\n",
       "    <tr>\n",
       "      <td>movie</td>\n",
       "      <td>reviews</td>\n",
       "      <td>we</td>\n",
       "      <td>studied</td>\n",
       "      <td>in</td>\n",
       "    </tr>\n",
       "    <tr>\n",
       "      <td>first</td>\n",
       "      <td>we</td>\n",
       "      <td>will</td>\n",
       "      <td>look</td>\n",
       "      <td>at</td>\n",
       "    </tr>\n",
       "    <tr>\n",
       "      <td>how</td>\n",
       "      <td>to</td>\n",
       "      <td>customize</td>\n",
       "      <td>it</td>\n",
       "      <td>.</td>\n",
       "    </tr>\n",
       "    <tr>\n",
       "      <td>of</td>\n",
       "      <td>the</td>\n",
       "      <td>preprocessor</td>\n",
       "      <td>used</td>\n",
       "      <td>in</td>\n",
       "    </tr>\n",
       "    <tr>\n",
       "      <td>will</td>\n",
       "      <td>study</td>\n",
       "      <td>how</td>\n",
       "      <td>we</td>\n",
       "      <td>build</td>\n",
       "    </tr>\n",
       "  </tbody>\n",
       "</table>"
      ],
      "text/plain": [
       "<IPython.core.display.HTML object>"
      ]
     },
     "metadata": {},
     "output_type": "display_data"
    }
   ],
   "source": [
    "bs,seq_len = 6,5\n",
    "d_tokens = np.array([tokens[i*15:i*15+seq_len] for i in range(bs)])\n",
    "df = pd.DataFrame(d_tokens)\n",
    "display(HTML(df.to_html(index=False,header=None)))"
   ]
  },
  {
   "cell_type": "code",
   "execution_count": 31,
   "metadata": {},
   "outputs": [
    {
     "data": {
      "text/html": [
       "<table border=\"1\" class=\"dataframe\">\n",
       "  <tbody>\n",
       "    <tr>\n",
       "      <td>,</td>\n",
       "      <td>we</td>\n",
       "      <td>will</td>\n",
       "      <td>go</td>\n",
       "      <td>back</td>\n",
       "    </tr>\n",
       "    <tr>\n",
       "      <td>chapter</td>\n",
       "      <td>1</td>\n",
       "      <td>and</td>\n",
       "      <td>dig</td>\n",
       "      <td>deeper</td>\n",
       "    </tr>\n",
       "    <tr>\n",
       "      <td>the</td>\n",
       "      <td>processing</td>\n",
       "      <td>steps</td>\n",
       "      <td>necessary</td>\n",
       "      <td>to</td>\n",
       "    </tr>\n",
       "    <tr>\n",
       "      <td>xxmaj</td>\n",
       "      <td>by</td>\n",
       "      <td>doing</td>\n",
       "      <td>this</td>\n",
       "      <td>,</td>\n",
       "    </tr>\n",
       "    <tr>\n",
       "      <td>the</td>\n",
       "      <td>data</td>\n",
       "      <td>block</td>\n",
       "      <td>xxup</td>\n",
       "      <td>api</td>\n",
       "    </tr>\n",
       "    <tr>\n",
       "      <td>a</td>\n",
       "      <td>language</td>\n",
       "      <td>model</td>\n",
       "      <td>and</td>\n",
       "      <td>train</td>\n",
       "    </tr>\n",
       "  </tbody>\n",
       "</table>"
      ],
      "text/plain": [
       "<IPython.core.display.HTML object>"
      ]
     },
     "metadata": {},
     "output_type": "display_data"
    }
   ],
   "source": [
    "bs,seq_len = 6,5\n",
    "d_tokens = np.array([tokens[i*15+seq_len:i*15+2*seq_len] for i in range(bs)])\n",
    "df = pd.DataFrame(d_tokens)\n",
    "display(HTML(df.to_html(index=False,header=None)))"
   ]
  },
  {
   "cell_type": "code",
   "execution_count": 32,
   "metadata": {},
   "outputs": [
    {
     "data": {
      "text/html": [
       "<table border=\"1\" class=\"dataframe\">\n",
       "  <tbody>\n",
       "    <tr>\n",
       "      <td>over</td>\n",
       "      <td>the</td>\n",
       "      <td>example</td>\n",
       "      <td>of</td>\n",
       "      <td>classifying</td>\n",
       "    </tr>\n",
       "    <tr>\n",
       "      <td>under</td>\n",
       "      <td>the</td>\n",
       "      <td>surface</td>\n",
       "      <td>.</td>\n",
       "      <td>xxmaj</td>\n",
       "    </tr>\n",
       "    <tr>\n",
       "      <td>convert</td>\n",
       "      <td>text</td>\n",
       "      <td>into</td>\n",
       "      <td>numbers</td>\n",
       "      <td>and</td>\n",
       "    </tr>\n",
       "    <tr>\n",
       "      <td>we</td>\n",
       "      <td>'ll</td>\n",
       "      <td>have</td>\n",
       "      <td>another</td>\n",
       "      <td>example</td>\n",
       "    </tr>\n",
       "    <tr>\n",
       "      <td>.</td>\n",
       "      <td>\\n</td>\n",
       "      <td>xxmaj</td>\n",
       "      <td>then</td>\n",
       "      <td>we</td>\n",
       "    </tr>\n",
       "    <tr>\n",
       "      <td>it</td>\n",
       "      <td>for</td>\n",
       "      <td>a</td>\n",
       "      <td>while</td>\n",
       "      <td>.</td>\n",
       "    </tr>\n",
       "  </tbody>\n",
       "</table>"
      ],
      "text/plain": [
       "<IPython.core.display.HTML object>"
      ]
     },
     "metadata": {},
     "output_type": "display_data"
    }
   ],
   "source": [
    "bs,seq_len = 6,5\n",
    "d_tokens = np.array([tokens[i*15+10:i*15+15] for i in range(bs)])\n",
    "df = pd.DataFrame(d_tokens)\n",
    "display(HTML(df.to_html(index=False,header=None)))"
   ]
  },
  {
   "cell_type": "code",
   "execution_count": 33,
   "metadata": {},
   "outputs": [],
   "source": [
    "nums200 = toks200.map(num)"
   ]
  },
  {
   "cell_type": "code",
   "execution_count": 34,
   "metadata": {},
   "outputs": [
    {
     "data": {
      "text/plain": [
       "(200, 231)"
      ]
     },
     "execution_count": 34,
     "metadata": {},
     "output_type": "execute_result"
    }
   ],
   "source": [
    "len(nums200),len(nums200[0])"
   ]
  },
  {
   "cell_type": "code",
   "execution_count": 35,
   "metadata": {},
   "outputs": [],
   "source": [
    "dl = LMDataLoader(nums200)"
   ]
  },
  {
   "cell_type": "code",
   "execution_count": 36,
   "metadata": {},
   "outputs": [
    {
     "data": {
      "text/plain": [
       "200"
      ]
     },
     "execution_count": 36,
     "metadata": {},
     "output_type": "execute_result"
    }
   ],
   "source": [
    "len(nums200)"
   ]
  },
  {
   "cell_type": "code",
   "execution_count": 37,
   "metadata": {},
   "outputs": [
    {
     "name": "stdout",
     "output_type": "stream",
     "text": [
      "57242\n"
     ]
    }
   ],
   "source": [
    "total_lens=0\n",
    "for i in nums200:\n",
    "    total_lens+=len(i)\n",
    "print(total_lens)"
   ]
  },
  {
   "cell_type": "code",
   "execution_count": 38,
   "metadata": {},
   "outputs": [
    {
     "data": {
      "text/plain": [
       "13"
      ]
     },
     "execution_count": 38,
     "metadata": {},
     "output_type": "execute_result"
    }
   ],
   "source": [
    "len(dl)"
   ]
  },
  {
   "cell_type": "code",
   "execution_count": 39,
   "metadata": {},
   "outputs": [
    {
     "data": {
      "text/plain": [
       "59904"
      ]
     },
     "execution_count": 39,
     "metadata": {},
     "output_type": "execute_result"
    }
   ],
   "source": [
    "13*64*72"
   ]
  },
  {
   "cell_type": "code",
   "execution_count": 40,
   "metadata": {},
   "outputs": [
    {
     "data": {
      "text/plain": [
       "(torch.Size([64, 72]), torch.Size([64, 72]))"
      ]
     },
     "execution_count": 40,
     "metadata": {},
     "output_type": "execute_result"
    }
   ],
   "source": [
    "x,y = first(dl)\n",
    "x.shape,y.shape"
   ]
  },
  {
   "cell_type": "code",
   "execution_count": 41,
   "metadata": {},
   "outputs": [
    {
     "data": {
      "text/plain": [
       "\"xxbos i did n't know what to expect when i started watching this movie , by the end of it\""
      ]
     },
     "execution_count": 41,
     "metadata": {},
     "output_type": "execute_result"
    }
   ],
   "source": [
    "' '.join(num.vocab[o] for o in x[0][:20])"
   ]
  },
  {
   "cell_type": "code",
   "execution_count": 42,
   "metadata": {
    "scrolled": true
   },
   "outputs": [
    {
     "data": {
      "text/plain": [
       "\"i did n't know what to expect when i started watching this movie , by the end of it i\""
      ]
     },
     "execution_count": 42,
     "metadata": {},
     "output_type": "execute_result"
    }
   ],
   "source": [
    "' '.join(num.vocab[o] for o in y[0][:20])"
   ]
  },
  {
   "cell_type": "markdown",
   "metadata": {},
   "source": [
    "## Training a Text Classifier"
   ]
  },
  {
   "cell_type": "markdown",
   "metadata": {},
   "source": [
    "### Language Model Using DataBlock"
   ]
  },
  {
   "cell_type": "code",
   "execution_count": 43,
   "metadata": {},
   "outputs": [
    {
     "data": {
      "text/html": [
       "\n",
       "<style>\n",
       "    /* Turns off some styling */\n",
       "    progress {\n",
       "        /* gets rid of default border in Firefox and Opera. */\n",
       "        border: none;\n",
       "        /* Needs to be in here for Safari polyfill so background images work as expected. */\n",
       "        background-size: auto;\n",
       "    }\n",
       "    progress:not([value]), progress:not([value])::-webkit-progress-bar {\n",
       "        background: repeating-linear-gradient(45deg, #7e7e7e, #7e7e7e 10px, #5c5c5c 10px, #5c5c5c 20px);\n",
       "    }\n",
       "    .progress-bar-interrupted, .progress-bar-interrupted::-webkit-progress-bar {\n",
       "        background: #F44336;\n",
       "    }\n",
       "</style>\n"
      ],
      "text/plain": [
       "<IPython.core.display.HTML object>"
      ]
     },
     "metadata": {},
     "output_type": "display_data"
    },
    {
     "data": {
      "text/html": [],
      "text/plain": [
       "<IPython.core.display.HTML object>"
      ]
     },
     "metadata": {},
     "output_type": "display_data"
    }
   ],
   "source": [
    "get_imdb = partial(get_text_files, folders=['train', 'test', 'unsup'])\n",
    "\n",
    "dls_lm = DataBlock(\n",
    "    blocks=TextBlock.from_folder(path, is_lm=True),\n",
    "    get_items=get_imdb, splitter=RandomSplitter(0.1)\n",
    ").dataloaders(path, path=path, bs=128, seq_len=80)"
   ]
  },
  {
   "cell_type": "code",
   "execution_count": 44,
   "metadata": {},
   "outputs": [
    {
     "data": {
      "text/html": [
       "<table border=\"1\" class=\"dataframe\">\n",
       "  <thead>\n",
       "    <tr style=\"text-align: right;\">\n",
       "      <th></th>\n",
       "      <th>text</th>\n",
       "      <th>text_</th>\n",
       "    </tr>\n",
       "  </thead>\n",
       "  <tbody>\n",
       "    <tr>\n",
       "      <th>0</th>\n",
       "      <td>xxbos xxmaj the xxmaj scottish artist xxmaj andy xxmaj goldsworthy fashions natural materials into ephemeral artworks , assembling rocks into egg - shaped cairns , filling riverside rock - pools with fiery flowers and stitching thorns and twigs into intricate web patterns . xxmaj an original work and a few photographs of his other creations are tucked away in a corner of xxmaj southampton art gallery ( near where i live ) , but although i found these pieces intriguing</td>\n",
       "      <td>xxmaj the xxmaj scottish artist xxmaj andy xxmaj goldsworthy fashions natural materials into ephemeral artworks , assembling rocks into egg - shaped cairns , filling riverside rock - pools with fiery flowers and stitching thorns and twigs into intricate web patterns . xxmaj an original work and a few photographs of his other creations are tucked away in a corner of xxmaj southampton art gallery ( near where i live ) , but although i found these pieces intriguing ,</td>\n",
       "    </tr>\n",
       "    <tr>\n",
       "      <th>1</th>\n",
       "      <td>\" part of the movie . xxmaj dwight xxmaj yoakum 's performance is also good but xxmaj levon steals the movie . \\n\\n xxup big xxmaj problem : xxmaj tommy xxmaj lee xxmaj jones has no range . xxmaj he has an unsympathetic constant deadpan delivery . xxmaj should n't be allowed to carry a movie . \\n\\n xxmaj wait for it to come out on video . xxmaj finally , for those who hype the \" new xxmaj western</td>\n",
       "      <td>part of the movie . xxmaj dwight xxmaj yoakum 's performance is also good but xxmaj levon steals the movie . \\n\\n xxup big xxmaj problem : xxmaj tommy xxmaj lee xxmaj jones has no range . xxmaj he has an unsympathetic constant deadpan delivery . xxmaj should n't be allowed to carry a movie . \\n\\n xxmaj wait for it to come out on video . xxmaj finally , for those who hype the \" new xxmaj western \"</td>\n",
       "    </tr>\n",
       "  </tbody>\n",
       "</table>"
      ],
      "text/plain": [
       "<IPython.core.display.HTML object>"
      ]
     },
     "metadata": {},
     "output_type": "display_data"
    }
   ],
   "source": [
    "dls_lm.show_batch(max_n=2)"
   ]
  },
  {
   "cell_type": "markdown",
   "metadata": {},
   "source": [
    "### Fine-Tuning the Language Model"
   ]
  },
  {
   "cell_type": "code",
   "execution_count": 45,
   "metadata": {},
   "outputs": [
    {
     "data": {
      "text/html": [
       "\n",
       "<style>\n",
       "    /* Turns off some styling */\n",
       "    progress {\n",
       "        /* gets rid of default border in Firefox and Opera. */\n",
       "        border: none;\n",
       "        /* Needs to be in here for Safari polyfill so background images work as expected. */\n",
       "        background-size: auto;\n",
       "    }\n",
       "    progress:not([value]), progress:not([value])::-webkit-progress-bar {\n",
       "        background: repeating-linear-gradient(45deg, #7e7e7e, #7e7e7e 10px, #5c5c5c 10px, #5c5c5c 20px);\n",
       "    }\n",
       "    .progress-bar-interrupted, .progress-bar-interrupted::-webkit-progress-bar {\n",
       "        background: #F44336;\n",
       "    }\n",
       "</style>\n"
      ],
      "text/plain": [
       "<IPython.core.display.HTML object>"
      ]
     },
     "metadata": {},
     "output_type": "display_data"
    },
    {
     "data": {
      "text/html": [
       "\n",
       "    <div>\n",
       "      <progress value='105070592' class='' max='105067061' style='width:300px; height:20px; vertical-align: middle;'></progress>\n",
       "      100.00% [105070592/105067061 00:09&lt;00:00]\n",
       "    </div>\n",
       "    "
      ],
      "text/plain": [
       "<IPython.core.display.HTML object>"
      ]
     },
     "metadata": {},
     "output_type": "display_data"
    }
   ],
   "source": [
    "learn = language_model_learner(\n",
    "    dls_lm, AWD_LSTM, drop_mult=0.3, \n",
    "    metrics=[accuracy, Perplexity()]).to_fp16()"
   ]
  },
  {
   "cell_type": "code",
   "execution_count": 46,
   "metadata": {},
   "outputs": [
    {
     "data": {
      "text/html": [
       "\n",
       "<style>\n",
       "    /* Turns off some styling */\n",
       "    progress {\n",
       "        /* gets rid of default border in Firefox and Opera. */\n",
       "        border: none;\n",
       "        /* Needs to be in here for Safari polyfill so background images work as expected. */\n",
       "        background-size: auto;\n",
       "    }\n",
       "    progress:not([value]), progress:not([value])::-webkit-progress-bar {\n",
       "        background: repeating-linear-gradient(45deg, #7e7e7e, #7e7e7e 10px, #5c5c5c 10px, #5c5c5c 20px);\n",
       "    }\n",
       "    .progress-bar-interrupted, .progress-bar-interrupted::-webkit-progress-bar {\n",
       "        background: #F44336;\n",
       "    }\n",
       "</style>\n"
      ],
      "text/plain": [
       "<IPython.core.display.HTML object>"
      ]
     },
     "metadata": {},
     "output_type": "display_data"
    },
    {
     "data": {
      "text/html": [
       "<table border=\"1\" class=\"dataframe\">\n",
       "  <thead>\n",
       "    <tr style=\"text-align: left;\">\n",
       "      <th>epoch</th>\n",
       "      <th>train_loss</th>\n",
       "      <th>valid_loss</th>\n",
       "      <th>accuracy</th>\n",
       "      <th>perplexity</th>\n",
       "      <th>time</th>\n",
       "    </tr>\n",
       "  </thead>\n",
       "  <tbody>\n",
       "    <tr>\n",
       "      <td>0</td>\n",
       "      <td>4.001635</td>\n",
       "      <td>3.898766</td>\n",
       "      <td>0.301490</td>\n",
       "      <td>49.341503</td>\n",
       "      <td>08:33</td>\n",
       "    </tr>\n",
       "  </tbody>\n",
       "</table>"
      ],
      "text/plain": [
       "<IPython.core.display.HTML object>"
      ]
     },
     "metadata": {},
     "output_type": "display_data"
    }
   ],
   "source": [
    "learn.fit_one_cycle(1, 2e-2)"
   ]
  },
  {
   "cell_type": "markdown",
   "metadata": {},
   "source": [
    "### Saving and Loading Models"
   ]
  },
  {
   "cell_type": "code",
   "execution_count": 47,
   "metadata": {},
   "outputs": [
    {
     "data": {
      "text/plain": [
       "Path('/root/.fastai/data/imdb/models/1epoch.pth')"
      ]
     },
     "execution_count": 47,
     "metadata": {},
     "output_type": "execute_result"
    }
   ],
   "source": [
    "learn.save('1epoch')"
   ]
  },
  {
   "cell_type": "code",
   "execution_count": 48,
   "metadata": {},
   "outputs": [],
   "source": [
    "learn = learn.load('1epoch')"
   ]
  },
  {
   "cell_type": "code",
   "execution_count": 49,
   "metadata": {},
   "outputs": [
    {
     "data": {
      "text/html": [
       "\n",
       "<style>\n",
       "    /* Turns off some styling */\n",
       "    progress {\n",
       "        /* gets rid of default border in Firefox and Opera. */\n",
       "        border: none;\n",
       "        /* Needs to be in here for Safari polyfill so background images work as expected. */\n",
       "        background-size: auto;\n",
       "    }\n",
       "    progress:not([value]), progress:not([value])::-webkit-progress-bar {\n",
       "        background: repeating-linear-gradient(45deg, #7e7e7e, #7e7e7e 10px, #5c5c5c 10px, #5c5c5c 20px);\n",
       "    }\n",
       "    .progress-bar-interrupted, .progress-bar-interrupted::-webkit-progress-bar {\n",
       "        background: #F44336;\n",
       "    }\n",
       "</style>\n"
      ],
      "text/plain": [
       "<IPython.core.display.HTML object>"
      ]
     },
     "metadata": {},
     "output_type": "display_data"
    },
    {
     "data": {
      "text/html": [
       "<table border=\"1\" class=\"dataframe\">\n",
       "  <thead>\n",
       "    <tr style=\"text-align: left;\">\n",
       "      <th>epoch</th>\n",
       "      <th>train_loss</th>\n",
       "      <th>valid_loss</th>\n",
       "      <th>accuracy</th>\n",
       "      <th>perplexity</th>\n",
       "      <th>time</th>\n",
       "    </tr>\n",
       "  </thead>\n",
       "  <tbody>\n",
       "    <tr>\n",
       "      <td>0</td>\n",
       "      <td>3.755517</td>\n",
       "      <td>3.756951</td>\n",
       "      <td>0.317714</td>\n",
       "      <td>42.817669</td>\n",
       "      <td>08:50</td>\n",
       "    </tr>\n",
       "    <tr>\n",
       "      <td>1</td>\n",
       "      <td>3.695737</td>\n",
       "      <td>3.698826</td>\n",
       "      <td>0.324380</td>\n",
       "      <td>40.399830</td>\n",
       "      <td>09:02</td>\n",
       "    </tr>\n",
       "    <tr>\n",
       "      <td>2</td>\n",
       "      <td>3.644548</td>\n",
       "      <td>3.648346</td>\n",
       "      <td>0.329566</td>\n",
       "      <td>38.411079</td>\n",
       "      <td>08:55</td>\n",
       "    </tr>\n",
       "    <tr>\n",
       "      <td>3</td>\n",
       "      <td>3.566868</td>\n",
       "      <td>3.615654</td>\n",
       "      <td>0.333846</td>\n",
       "      <td>37.175632</td>\n",
       "      <td>08:48</td>\n",
       "    </tr>\n",
       "    <tr>\n",
       "      <td>4</td>\n",
       "      <td>3.489898</td>\n",
       "      <td>3.597493</td>\n",
       "      <td>0.336219</td>\n",
       "      <td>36.506603</td>\n",
       "      <td>08:47</td>\n",
       "    </tr>\n",
       "    <tr>\n",
       "      <td>5</td>\n",
       "      <td>3.428813</td>\n",
       "      <td>3.575994</td>\n",
       "      <td>0.339054</td>\n",
       "      <td>35.730118</td>\n",
       "      <td>08:43</td>\n",
       "    </tr>\n",
       "    <tr>\n",
       "      <td>6</td>\n",
       "      <td>3.365512</td>\n",
       "      <td>3.568871</td>\n",
       "      <td>0.340482</td>\n",
       "      <td>35.476509</td>\n",
       "      <td>08:43</td>\n",
       "    </tr>\n",
       "    <tr>\n",
       "      <td>7</td>\n",
       "      <td>3.299841</td>\n",
       "      <td>3.565679</td>\n",
       "      <td>0.341508</td>\n",
       "      <td>35.363453</td>\n",
       "      <td>08:47</td>\n",
       "    </tr>\n",
       "    <tr>\n",
       "      <td>8</td>\n",
       "      <td>3.250631</td>\n",
       "      <td>3.568701</td>\n",
       "      <td>0.341841</td>\n",
       "      <td>35.470497</td>\n",
       "      <td>08:44</td>\n",
       "    </tr>\n",
       "    <tr>\n",
       "      <td>9</td>\n",
       "      <td>3.220530</td>\n",
       "      <td>3.573685</td>\n",
       "      <td>0.341573</td>\n",
       "      <td>35.647701</td>\n",
       "      <td>08:50</td>\n",
       "    </tr>\n",
       "  </tbody>\n",
       "</table>"
      ],
      "text/plain": [
       "<IPython.core.display.HTML object>"
      ]
     },
     "metadata": {},
     "output_type": "display_data"
    }
   ],
   "source": [
    "learn.unfreeze()\n",
    "learn.fit_one_cycle(10, 2e-3)"
   ]
  },
  {
   "cell_type": "code",
   "execution_count": 52,
   "metadata": {},
   "outputs": [],
   "source": [
    "learn.save_encoder('finetuned')"
   ]
  },
  {
   "cell_type": "code",
   "execution_count": 53,
   "metadata": {},
   "outputs": [
    {
     "data": {
      "text/plain": [
       "Path('/root/.fastai/data/imdb')"
      ]
     },
     "execution_count": 53,
     "metadata": {},
     "output_type": "execute_result"
    }
   ],
   "source": [
    "learn.path"
   ]
  },
  {
   "cell_type": "markdown",
   "metadata": {},
   "source": [
    "### Text Generation"
   ]
  },
  {
   "cell_type": "code",
   "execution_count": 54,
   "metadata": {},
   "outputs": [
    {
     "data": {
      "text/html": [
       "\n",
       "<style>\n",
       "    /* Turns off some styling */\n",
       "    progress {\n",
       "        /* gets rid of default border in Firefox and Opera. */\n",
       "        border: none;\n",
       "        /* Needs to be in here for Safari polyfill so background images work as expected. */\n",
       "        background-size: auto;\n",
       "    }\n",
       "    progress:not([value]), progress:not([value])::-webkit-progress-bar {\n",
       "        background: repeating-linear-gradient(45deg, #7e7e7e, #7e7e7e 10px, #5c5c5c 10px, #5c5c5c 20px);\n",
       "    }\n",
       "    .progress-bar-interrupted, .progress-bar-interrupted::-webkit-progress-bar {\n",
       "        background: #F44336;\n",
       "    }\n",
       "</style>\n"
      ],
      "text/plain": [
       "<IPython.core.display.HTML object>"
      ]
     },
     "metadata": {},
     "output_type": "display_data"
    },
    {
     "data": {
      "text/html": [],
      "text/plain": [
       "<IPython.core.display.HTML object>"
      ]
     },
     "metadata": {},
     "output_type": "display_data"
    },
    {
     "data": {
      "text/html": [
       "\n",
       "<style>\n",
       "    /* Turns off some styling */\n",
       "    progress {\n",
       "        /* gets rid of default border in Firefox and Opera. */\n",
       "        border: none;\n",
       "        /* Needs to be in here for Safari polyfill so background images work as expected. */\n",
       "        background-size: auto;\n",
       "    }\n",
       "    progress:not([value]), progress:not([value])::-webkit-progress-bar {\n",
       "        background: repeating-linear-gradient(45deg, #7e7e7e, #7e7e7e 10px, #5c5c5c 10px, #5c5c5c 20px);\n",
       "    }\n",
       "    .progress-bar-interrupted, .progress-bar-interrupted::-webkit-progress-bar {\n",
       "        background: #F44336;\n",
       "    }\n",
       "</style>\n"
      ],
      "text/plain": [
       "<IPython.core.display.HTML object>"
      ]
     },
     "metadata": {},
     "output_type": "display_data"
    },
    {
     "data": {
      "text/html": [],
      "text/plain": [
       "<IPython.core.display.HTML object>"
      ]
     },
     "metadata": {},
     "output_type": "display_data"
    }
   ],
   "source": [
    "TEXT = \"I liked this movie because\"\n",
    "N_WORDS = 40\n",
    "N_SENTENCES = 2\n",
    "preds = [learn.predict(TEXT, N_WORDS, temperature=0.75) \n",
    "         for _ in range(N_SENTENCES)]"
   ]
  },
  {
   "cell_type": "code",
   "execution_count": 55,
   "metadata": {},
   "outputs": [
    {
     "name": "stdout",
     "output_type": "stream",
     "text": [
      "i liked this movie because it was a \" b \" movie . If you like some of the Hollywood \" hollywood \" approach to film - making , then you will hate this . If you liked Cabin Fever\n",
      "i liked this movie because it taught me a lot about love and a happy life . i liked it at the same time as it was one of my favourites . a classic for all ages . The only thing that please make\n"
     ]
    }
   ],
   "source": [
    "print(\"\\n\".join(preds))"
   ]
  },
  {
   "cell_type": "markdown",
   "metadata": {},
   "source": [
    "### Creating the Classifier DataLoaders"
   ]
  },
  {
   "cell_type": "code",
   "execution_count": 56,
   "metadata": {},
   "outputs": [],
   "source": [
    "dls_clas = DataBlock(\n",
    "    blocks=(TextBlock.from_folder(path, vocab=dls_lm.vocab),CategoryBlock),\n",
    "    get_y = parent_label,\n",
    "    get_items=partial(get_text_files, folders=['train', 'test']),\n",
    "    splitter=GrandparentSplitter(valid_name='test')\n",
    ").dataloaders(path, path=path, bs=128, seq_len=72)"
   ]
  },
  {
   "cell_type": "code",
   "execution_count": 57,
   "metadata": {},
   "outputs": [
    {
     "data": {
      "text/html": [
       "<table border=\"1\" class=\"dataframe\">\n",
       "  <thead>\n",
       "    <tr style=\"text-align: right;\">\n",
       "      <th></th>\n",
       "      <th>text</th>\n",
       "      <th>category</th>\n",
       "    </tr>\n",
       "  </thead>\n",
       "  <tbody>\n",
       "    <tr>\n",
       "      <th>0</th>\n",
       "      <td>xxbos xxmaj match 1 : xxmaj tag xxmaj team xxmaj table xxmaj match xxmaj bubba xxmaj ray and xxmaj spike xxmaj dudley vs xxmaj eddie xxmaj guerrero and xxmaj chris xxmaj benoit xxmaj bubba xxmaj ray and xxmaj spike xxmaj dudley started things off with a xxmaj tag xxmaj team xxmaj table xxmaj match against xxmaj eddie xxmaj guerrero and xxmaj chris xxmaj benoit . xxmaj according to the rules of the match , both opponents have to go through tables in order to get the win . xxmaj benoit and xxmaj guerrero heated up early on by taking turns hammering first xxmaj spike and then xxmaj bubba xxmaj ray . a xxmaj german xxunk by xxmaj benoit to xxmaj bubba took the wind out of the xxmaj dudley brother . xxmaj spike tried to help his brother , but the referee restrained him while xxmaj benoit and xxmaj guerrero</td>\n",
       "      <td>pos</td>\n",
       "    </tr>\n",
       "    <tr>\n",
       "      <th>1</th>\n",
       "      <td>xxbos * * attention xxmaj spoilers * * \\n\\n xxmaj first of all , let me say that xxmaj rob xxmaj roy is one of the best films of the 90 's . xxmaj it was an amazing achievement for all those involved , especially the acting of xxmaj liam xxmaj neeson , xxmaj jessica xxmaj lange , xxmaj john xxmaj hurt , xxmaj brian xxmaj cox , and xxmaj tim xxmaj roth . xxmaj michael xxmaj canton xxmaj jones painted a wonderful portrait of the honor and dishonor that men can represent in themselves . xxmaj but alas … \\n\\n it constantly , and unfairly gets compared to \" braveheart \" . xxmaj these are two entirely different films , probably only similar in the fact that they are both about xxmaj scots in historical xxmaj scotland . xxmaj yet , this comparison frequently bothers me because it seems</td>\n",
       "      <td>pos</td>\n",
       "    </tr>\n",
       "    <tr>\n",
       "      <th>2</th>\n",
       "      <td>xxbos xxmaj by now you 've probably heard a bit about the new xxmaj disney dub of xxmaj miyazaki 's classic film , xxmaj laputa : xxmaj castle xxmaj in xxmaj the xxmaj sky . xxmaj during late summer of 1998 , xxmaj disney released \" kiki 's xxmaj delivery xxmaj service \" on video which included a preview of the xxmaj laputa dub saying it was due out in \" 1 xxrep 3 9 \" . xxmaj it 's obviously way past that year now , but the dub has been finally completed . xxmaj and it 's not \" laputa : xxmaj castle xxmaj in xxmaj the xxmaj sky \" , just \" castle xxmaj in xxmaj the xxmaj sky \" for the dub , since xxmaj laputa is not such a nice word in xxmaj spanish ( even though they use the word xxmaj laputa many times</td>\n",
       "      <td>pos</td>\n",
       "    </tr>\n",
       "  </tbody>\n",
       "</table>"
      ],
      "text/plain": [
       "<IPython.core.display.HTML object>"
      ]
     },
     "metadata": {},
     "output_type": "display_data"
    }
   ],
   "source": [
    "dls_clas.show_batch(max_n=3)"
   ]
  },
  {
   "cell_type": "code",
   "execution_count": 58,
   "metadata": {},
   "outputs": [],
   "source": [
    "nums_samp = toks200[:10].map(num)"
   ]
  },
  {
   "cell_type": "code",
   "execution_count": 59,
   "metadata": {},
   "outputs": [
    {
     "data": {
      "text/plain": [
       "(#10) [231,260,148,335,137,363,155,299,145,60]"
      ]
     },
     "execution_count": 59,
     "metadata": {},
     "output_type": "execute_result"
    }
   ],
   "source": [
    "nums_samp.map(len)"
   ]
  },
  {
   "cell_type": "code",
   "execution_count": 60,
   "metadata": {},
   "outputs": [],
   "source": [
    "learn = text_classifier_learner(dls_clas, AWD_LSTM, drop_mult=0.5, \n",
    "                                metrics=accuracy).to_fp16()"
   ]
  },
  {
   "cell_type": "code",
   "execution_count": 61,
   "metadata": {},
   "outputs": [],
   "source": [
    "learn = learn.load_encoder('finetuned')"
   ]
  },
  {
   "cell_type": "markdown",
   "metadata": {},
   "source": [
    "### Fine-Tuning the Classifier"
   ]
  },
  {
   "cell_type": "code",
   "execution_count": 62,
   "metadata": {},
   "outputs": [
    {
     "data": {
      "text/html": [
       "\n",
       "<style>\n",
       "    /* Turns off some styling */\n",
       "    progress {\n",
       "        /* gets rid of default border in Firefox and Opera. */\n",
       "        border: none;\n",
       "        /* Needs to be in here for Safari polyfill so background images work as expected. */\n",
       "        background-size: auto;\n",
       "    }\n",
       "    progress:not([value]), progress:not([value])::-webkit-progress-bar {\n",
       "        background: repeating-linear-gradient(45deg, #7e7e7e, #7e7e7e 10px, #5c5c5c 10px, #5c5c5c 20px);\n",
       "    }\n",
       "    .progress-bar-interrupted, .progress-bar-interrupted::-webkit-progress-bar {\n",
       "        background: #F44336;\n",
       "    }\n",
       "</style>\n"
      ],
      "text/plain": [
       "<IPython.core.display.HTML object>"
      ]
     },
     "metadata": {},
     "output_type": "display_data"
    },
    {
     "data": {
      "text/html": [
       "<table border=\"1\" class=\"dataframe\">\n",
       "  <thead>\n",
       "    <tr style=\"text-align: left;\">\n",
       "      <th>epoch</th>\n",
       "      <th>train_loss</th>\n",
       "      <th>valid_loss</th>\n",
       "      <th>accuracy</th>\n",
       "      <th>time</th>\n",
       "    </tr>\n",
       "  </thead>\n",
       "  <tbody>\n",
       "    <tr>\n",
       "      <td>0</td>\n",
       "      <td>0.246149</td>\n",
       "      <td>0.178190</td>\n",
       "      <td>0.930720</td>\n",
       "      <td>00:14</td>\n",
       "    </tr>\n",
       "  </tbody>\n",
       "</table>"
      ],
      "text/plain": [
       "<IPython.core.display.HTML object>"
      ]
     },
     "metadata": {},
     "output_type": "display_data"
    }
   ],
   "source": [
    "learn.fit_one_cycle(1, 2e-2)"
   ]
  },
  {
   "cell_type": "code",
   "execution_count": 63,
   "metadata": {},
   "outputs": [
    {
     "data": {
      "text/html": [
       "\n",
       "<style>\n",
       "    /* Turns off some styling */\n",
       "    progress {\n",
       "        /* gets rid of default border in Firefox and Opera. */\n",
       "        border: none;\n",
       "        /* Needs to be in here for Safari polyfill so background images work as expected. */\n",
       "        background-size: auto;\n",
       "    }\n",
       "    progress:not([value]), progress:not([value])::-webkit-progress-bar {\n",
       "        background: repeating-linear-gradient(45deg, #7e7e7e, #7e7e7e 10px, #5c5c5c 10px, #5c5c5c 20px);\n",
       "    }\n",
       "    .progress-bar-interrupted, .progress-bar-interrupted::-webkit-progress-bar {\n",
       "        background: #F44336;\n",
       "    }\n",
       "</style>\n"
      ],
      "text/plain": [
       "<IPython.core.display.HTML object>"
      ]
     },
     "metadata": {},
     "output_type": "display_data"
    },
    {
     "data": {
      "text/html": [
       "<table border=\"1\" class=\"dataframe\">\n",
       "  <thead>\n",
       "    <tr style=\"text-align: left;\">\n",
       "      <th>epoch</th>\n",
       "      <th>train_loss</th>\n",
       "      <th>valid_loss</th>\n",
       "      <th>accuracy</th>\n",
       "      <th>time</th>\n",
       "    </tr>\n",
       "  </thead>\n",
       "  <tbody>\n",
       "    <tr>\n",
       "      <td>0</td>\n",
       "      <td>0.221013</td>\n",
       "      <td>0.163485</td>\n",
       "      <td>0.937800</td>\n",
       "      <td>00:16</td>\n",
       "    </tr>\n",
       "  </tbody>\n",
       "</table>"
      ],
      "text/plain": [
       "<IPython.core.display.HTML object>"
      ]
     },
     "metadata": {},
     "output_type": "display_data"
    }
   ],
   "source": [
    "learn.freeze_to(-2)\n",
    "learn.fit_one_cycle(1, slice(1e-2/(2.6**4),1e-2))"
   ]
  },
  {
   "cell_type": "code",
   "execution_count": 64,
   "metadata": {},
   "outputs": [
    {
     "data": {
      "text/html": [
       "\n",
       "<style>\n",
       "    /* Turns off some styling */\n",
       "    progress {\n",
       "        /* gets rid of default border in Firefox and Opera. */\n",
       "        border: none;\n",
       "        /* Needs to be in here for Safari polyfill so background images work as expected. */\n",
       "        background-size: auto;\n",
       "    }\n",
       "    progress:not([value]), progress:not([value])::-webkit-progress-bar {\n",
       "        background: repeating-linear-gradient(45deg, #7e7e7e, #7e7e7e 10px, #5c5c5c 10px, #5c5c5c 20px);\n",
       "    }\n",
       "    .progress-bar-interrupted, .progress-bar-interrupted::-webkit-progress-bar {\n",
       "        background: #F44336;\n",
       "    }\n",
       "</style>\n"
      ],
      "text/plain": [
       "<IPython.core.display.HTML object>"
      ]
     },
     "metadata": {},
     "output_type": "display_data"
    },
    {
     "data": {
      "text/html": [
       "<table border=\"1\" class=\"dataframe\">\n",
       "  <thead>\n",
       "    <tr style=\"text-align: left;\">\n",
       "      <th>epoch</th>\n",
       "      <th>train_loss</th>\n",
       "      <th>valid_loss</th>\n",
       "      <th>accuracy</th>\n",
       "      <th>time</th>\n",
       "    </tr>\n",
       "  </thead>\n",
       "  <tbody>\n",
       "    <tr>\n",
       "      <td>0</td>\n",
       "      <td>0.190483</td>\n",
       "      <td>0.148618</td>\n",
       "      <td>0.944080</td>\n",
       "      <td>00:19</td>\n",
       "    </tr>\n",
       "  </tbody>\n",
       "</table>"
      ],
      "text/plain": [
       "<IPython.core.display.HTML object>"
      ]
     },
     "metadata": {},
     "output_type": "display_data"
    }
   ],
   "source": [
    "learn.freeze_to(-3)\n",
    "learn.fit_one_cycle(1, slice(5e-3/(2.6**4),5e-3))"
   ]
  },
  {
   "cell_type": "code",
   "execution_count": 65,
   "metadata": {},
   "outputs": [
    {
     "data": {
      "text/html": [
       "\n",
       "<style>\n",
       "    /* Turns off some styling */\n",
       "    progress {\n",
       "        /* gets rid of default border in Firefox and Opera. */\n",
       "        border: none;\n",
       "        /* Needs to be in here for Safari polyfill so background images work as expected. */\n",
       "        background-size: auto;\n",
       "    }\n",
       "    progress:not([value]), progress:not([value])::-webkit-progress-bar {\n",
       "        background: repeating-linear-gradient(45deg, #7e7e7e, #7e7e7e 10px, #5c5c5c 10px, #5c5c5c 20px);\n",
       "    }\n",
       "    .progress-bar-interrupted, .progress-bar-interrupted::-webkit-progress-bar {\n",
       "        background: #F44336;\n",
       "    }\n",
       "</style>\n"
      ],
      "text/plain": [
       "<IPython.core.display.HTML object>"
      ]
     },
     "metadata": {},
     "output_type": "display_data"
    },
    {
     "data": {
      "text/html": [
       "<table border=\"1\" class=\"dataframe\">\n",
       "  <thead>\n",
       "    <tr style=\"text-align: left;\">\n",
       "      <th>epoch</th>\n",
       "      <th>train_loss</th>\n",
       "      <th>valid_loss</th>\n",
       "      <th>accuracy</th>\n",
       "      <th>time</th>\n",
       "    </tr>\n",
       "  </thead>\n",
       "  <tbody>\n",
       "    <tr>\n",
       "      <td>0</td>\n",
       "      <td>0.159024</td>\n",
       "      <td>0.148037</td>\n",
       "      <td>0.945240</td>\n",
       "      <td>00:24</td>\n",
       "    </tr>\n",
       "    <tr>\n",
       "      <td>1</td>\n",
       "      <td>0.148517</td>\n",
       "      <td>0.149630</td>\n",
       "      <td>0.944720</td>\n",
       "      <td>00:23</td>\n",
       "    </tr>\n",
       "  </tbody>\n",
       "</table>"
      ],
      "text/plain": [
       "<IPython.core.display.HTML object>"
      ]
     },
     "metadata": {},
     "output_type": "display_data"
    }
   ],
   "source": [
    "learn.unfreeze()\n",
    "learn.fit_one_cycle(2, slice(1e-3/(2.6**4),1e-3))"
   ]
  },
  {
   "cell_type": "markdown",
   "metadata": {},
   "source": [
    "## Disinformation and Language Models"
   ]
  },
  {
   "cell_type": "markdown",
   "metadata": {},
   "source": [
    "## Conclusion"
   ]
  },
  {
   "cell_type": "markdown",
   "metadata": {},
   "source": [
    "## Questionnaire"
   ]
  },
  {
   "cell_type": "markdown",
   "metadata": {},
   "source": [
    "1. What is \"self-supervised learning\"?\n",
    "1. What is a \"language model\"?\n",
    "1. Why is a language model considered self-supervised?\n",
    "1. What are self-supervised models usually used for?\n",
    "1. Why do we fine-tune language models?\n",
    "1. What are the three steps to create a state-of-the-art text classifier?\n",
    "1. How do the 50,000 unlabeled movie reviews help us create a better text classifier for the IMDb dataset?\n",
    "1. What are the three steps to prepare your data for a language model?\n",
    "1. What is \"tokenization\"? Why do we need it?\n",
    "1. Name three different approaches to tokenization.\n",
    "1. What is `xxbos`?\n",
    "1. List four rules that fastai applies to text during tokenization.\n",
    "1. Why are repeated characters replaced with a token showing the number of repetitions and the character that's repeated?\n",
    "1. What is \"numericalization\"?\n",
    "1. Why might there be words that are replaced with the \"unknown word\" token?\n",
    "1. With a batch size of 64, the first row of the tensor representing the first batch contains the first 64 tokens for the dataset. What does the second row of that tensor contain? What does the first row of the second batch contain? (Careful—students often get this one wrong! Be sure to check your answer on the book's website.)\n",
    "1. Why do we need padding for text classification? Why don't we need it for language modeling?\n",
    "1. What does an embedding matrix for NLP contain? What is its shape?\n",
    "1. What is \"perplexity\"?\n",
    "1. Why do we have to pass the vocabulary of the language model to the classifier data block?\n",
    "1. What is \"gradual unfreezing\"?\n",
    "1. Why is text generation always likely to be ahead of automatic identification of machine-generated texts?"
   ]
  },
  {
   "cell_type": "markdown",
   "metadata": {},
   "source": [
    "### Further Research"
   ]
  },
  {
   "cell_type": "markdown",
   "metadata": {},
   "source": [
    "1. See what you can learn about language models and disinformation. What are the best language models today? Take a look at some of their outputs. Do you find them convincing? How could a bad actor best use such a model to create conflict and uncertainty?\n",
    "1. Given the limitation that models are unlikely to be able to consistently recognize machine-generated texts, what other approaches may be needed to handle large-scale disinformation campaigns that leverage deep learning?"
   ]
  },
  {
   "cell_type": "code",
   "execution_count": null,
   "metadata": {},
   "outputs": [],
   "source": []
  }
 ],
 "metadata": {
  "jupytext": {
   "split_at_heading": true
  },
  "kernelspec": {
   "display_name": "Python 3 (ipykernel)",
   "language": "python",
   "name": "python3"
  },
  "language_info": {
   "codemirror_mode": {
    "name": "ipython",
    "version": 3
   },
   "file_extension": ".py",
   "mimetype": "text/x-python",
   "name": "python",
   "nbconvert_exporter": "python",
   "pygments_lexer": "ipython3",
   "version": "3.12.3"
  }
 },
 "nbformat": 4,
 "nbformat_minor": 4
}
