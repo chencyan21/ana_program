{
 "cells": [
  {
   "cell_type": "code",
   "execution_count": 1,
   "metadata": {},
   "outputs": [],
   "source": [
    "import pandas as pd\n",
    "import csv\n",
    "from wordcloud import WordCloud\n",
    "import matplotlib.pyplot as plt\n",
    "from PIL import Image\n",
    "import numpy as np\n",
    "import enchant\n",
    "\n",
    "\n",
    "def isEmoji(content):\n",
    "    if not content:\n",
    "        return False\n",
    "    if u\"\\U0001F600\" <= content <= u\"\\U0001F64F\":\n",
    "        return True\n",
    "    elif u\"\\U0001F300\" <= content <= u\"\\U0001F5FF\":\n",
    "        return True\n",
    "    elif u\"\\U0001F680\" <= content <= u\"\\U0001F6FF\":\n",
    "        return True\n",
    "    elif u\"\\U0001F1E0\" <= content <= u\"\\U0001F1FF\":\n",
    "        return True\n",
    "    else:\n",
    "        return False\n",
    "\n",
    "\n",
    "def read_file(file_name):\n",
    "    file_path = './Problem_C_Data/'+file_name+'.tsv'\n",
    "    fp = pd.read_csv(file_path, sep='\\t')\n",
    "    for headline, body in zip(fp['review_headline'], fp['review_body']):\n",
    "        review = str(headline)+\" \"+str(body)\n",
    "        total_words = []\n",
    "        for i in review:\n",
    "            if isEmoji(i):\n",
    "                if b'\\xf0\\x9f\\x98\\x91' <= i.encode('utf-8') <= b'\\xf0\\x9f\\x98\\x95' or i.encode('utf-8') == b'\\xf0\\x9f\\x91\\x8e':\n",
    "                    review = review.replace(i, \"bad\")\n",
    "                elif b'\\xf0\\x9f\\x8f\\xbb' <= i.encode('utf-8') <= b'\\xf0\\x9f\\x8f\\xbd':\n",
    "                    review = review.replace(i, \".\")\n",
    "                else:\n",
    "                    review = review.replace(i, \"good\")\n",
    "        total_words.append(review.lower())\n",
    "    txt = (' ').join(total_words)\n",
    "    wordcloud = WordCloud(background_color=\"white\",\n",
    "                          width=800,\n",
    "                          height=600,\n",
    "                          max_words=200,\n",
    "                          max_font_size=80,\n",
    "                          contour_width=2,\n",
    "                          contour_color='steelblue'\n",
    "                          ).generate(txt)\n",
    "    wordcloud.to_file(file_name+'.png')\n",
    "\n",
    "\n",
    "file_list = ['hair_dryer', 'microwave', 'pacifier']\n",
    "for i in file_list:\n",
    "    read_file(i)\n"
   ]
  }
 ],
 "metadata": {
  "kernelspec": {
   "display_name": "base",
   "language": "python",
   "name": "python3"
  },
  "language_info": {
   "codemirror_mode": {
    "name": "ipython",
    "version": 3
   },
   "file_extension": ".py",
   "mimetype": "text/x-python",
   "name": "python",
   "nbconvert_exporter": "python",
   "pygments_lexer": "ipython3",
   "version": "3.9.13 (main, Aug 25 2022, 23:51:50) [MSC v.1916 64 bit (AMD64)]"
  },
  "orig_nbformat": 4,
  "vscode": {
   "interpreter": {
    "hash": "7795591fae2c9c3801b50b2fb867cc56e0eb3bb22f687929c893d5b1ae764fad"
   }
  }
 },
 "nbformat": 4,
 "nbformat_minor": 2
}
