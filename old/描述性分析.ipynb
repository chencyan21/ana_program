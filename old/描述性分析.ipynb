{
 "cells": [
  {
   "cell_type": "code",
   "execution_count": 2,
   "metadata": {},
   "outputs": [],
   "source": [
    "import pandas as pd\n",
    "import csv\n",
    "def read_file(file_name):\n",
    "    file_path = './Problem_C_Data/'+file_name+'.tsv'\n",
    "    fp = pd.read_csv(file_path, sep='\\t')\n",
    "    count =0\n",
    "    data={'total_star':0,'helpful_votes':0,'total_votes':0,'average_star':0}\n",
    "    for i,j,k in zip(fp['star_rating'],fp['helpful_votes'],fp['total_votes']):\n",
    "        data['total_star']+=i\n",
    "        data['helpful_votes']+=j\n",
    "        data['total_votes']+=k\n",
    "        count+=1\n",
    "    data['average_star']=data['total_star']/count\n",
    "    return data\n",
    "\n",
    "def data_to_csv(file_list):\n",
    "    total_data = {'file_name':[],'total_star':[],'helpful_votes':[],'total_votes':[],'average_star':[]}\n",
    "    for file_name in file_list:\n",
    "        data=read_file(file_name)\n",
    "        total_data['file_name'].append(file_name)\n",
    "        for key,value in data.items():\n",
    "            total_data[key].append(value)\n",
    "    pd_data  = pd.DataFrame.from_dict(total_data)\n",
    "    pd_data.to_excel('描述性分析.xlsx')\n",
    "\n",
    "file_list = ['hair_dryer', 'microwave', 'pacifier']\n",
    "data_to_csv(file_list)\n"
   ]
  },
  {
   "cell_type": "code",
   "execution_count": 1,
   "metadata": {},
   "outputs": [
    {
     "name": "stdout",
     "output_type": "stream",
     "text": [
      "showing info https://raw.githubusercontent.com/nltk/nltk_data/gh-pages/index.xml\n",
      "showing info https://raw.githubusercontent.com/nltk/nltk_data/gh-pages/index.xml\n",
      "showing info https://raw.githubusercontent.com/nltk/nltk_data/gh-pages/index.xml\n"
     ]
    },
    {
     "data": {
      "text/plain": [
       "True"
      ]
     },
     "execution_count": 1,
     "metadata": {},
     "output_type": "execute_result"
    }
   ],
   "source": [
    "import nltk\n",
    "nltk.download()\n"
   ]
  }
 ],
 "metadata": {
  "kernelspec": {
   "display_name": "base",
   "language": "python",
   "name": "python3"
  },
  "language_info": {
   "codemirror_mode": {
    "name": "ipython",
    "version": 3
   },
   "file_extension": ".py",
   "mimetype": "text/x-python",
   "name": "python",
   "nbconvert_exporter": "python",
   "pygments_lexer": "ipython3",
   "version": "3.9.13 (main, Aug 25 2022, 23:51:50) [MSC v.1916 64 bit (AMD64)]"
  },
  "orig_nbformat": 4,
  "vscode": {
   "interpreter": {
    "hash": "7795591fae2c9c3801b50b2fb867cc56e0eb3bb22f687929c893d5b1ae764fad"
   }
  }
 },
 "nbformat": 4,
 "nbformat_minor": 2
}
