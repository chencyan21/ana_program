{
 "cells": [
  {
   "cell_type": "code",
   "execution_count": 13,
   "metadata": {},
   "outputs": [],
   "source": [
    "# text-preprocessing\n",
    "from matplotlib import pyplot as plt\n",
    "import torch,random,re,collections"
   ]
  },
  {
   "cell_type": "code",
   "execution_count": 14,
   "metadata": {},
   "outputs": [
    {
     "name": "stdout",
     "output_type": "stream",
     "text": [
      "['the', 'time', 'machine', 'by', 'h', 'g', 'wells']\n",
      "[]\n",
      "[]\n",
      "[]\n",
      "[]\n",
      "['i']\n",
      "[]\n",
      "[]\n",
      "['the', 'time', 'traveller', 'for', 'so', 'it', 'will', 'be', 'convenient', 'to', 'speak', 'of', 'him']\n",
      "['was', 'expounding', 'a', 'recondite', 'matter', 'to', 'us', 'his', 'grey', 'eyes', 'shone', 'and']\n",
      "['twinkled', 'and', 'his', 'usually', 'pale', 'face', 'was', 'flushed', 'and', 'animated', 'the']\n"
     ]
    }
   ],
   "source": [
    "# 读取数据集\n",
    "with open(\"./data/timemachine.txt\", \"r\") as f:\n",
    "    lines = f.readlines()\n",
    "lines = [re.sub(\"[^A-Za-z]+\", \" \", line).strip().lower() for line in lines]\n",
    "\n",
    "\n",
    "# 词元化\n",
    "def tokenize(strings, token=\"word\"):\n",
    "    if token == \"word\":\n",
    "        return [str.split() for str in strings]\n",
    "    elif token == \"char\":\n",
    "        return [list(str) for str in strings]\n",
    "    else:\n",
    "        print(\"Wrong!\")\n",
    "\n",
    "\n",
    "tokens = tokenize(lines, token=\"word\")\n",
    "for i in range(11):\n",
    "    print(tokens[i])"
   ]
  },
  {
   "cell_type": "code",
   "execution_count": 15,
   "metadata": {},
   "outputs": [],
   "source": [
    "# 统计词元的频率\n",
    "def count_corpus(tokens):\n",
    "    if len(tokens) == 0 or isinstance(tokens[0], list):\n",
    "        tokens = [token for line in tokens for token in line]\n",
    "    return collections.Counter(tokens)\n",
    "\n",
    "\n",
    "# 词表\n",
    "class Vocabulary:\n",
    "    def __init__(self, tokens=None, min_freq=0, reversed_tokens=None) -> None:\n",
    "        if tokens == None:\n",
    "            tokens = []\n",
    "        if reversed_tokens == None:\n",
    "            reversed_tokens = []\n",
    "        counter = count_corpus(tokens)\n",
    "        self._token_freqs = sorted(counter.items(), key=self.cmp, reverse=True)\n",
    "        self.idx_to_token = [\"<unk>\"] + reversed_tokens\n",
    "        self.token_to_idx = {token: idx for idx, token in enumerate(self.idx_to_token)}\n",
    "        for token, freq in self._token_freqs:\n",
    "            if freq < min_freq:\n",
    "                break  # 后面的不加入到词表中\n",
    "            if token not in self.token_to_idx:\n",
    "                self.token_to_idx[token] = len(self.idx_to_token)\n",
    "                self.idx_to_token.append(token)\n",
    "\n",
    "    def cmp(self, x):\n",
    "        return x[1]\n",
    "\n",
    "    @property\n",
    "    def unk(self):\n",
    "        return 0\n",
    "\n",
    "    @property\n",
    "    def token_freqs(self):\n",
    "        return self._token_freqs\n",
    "\n",
    "    def __len__(self):\n",
    "        return len(self.idx_to_token)\n",
    "\n",
    "    def __getitem__(self, tokens):\n",
    "        if not isinstance(tokens, (list, tuple)):\n",
    "            return self.token_to_idx.get(tokens, self.unk)\n",
    "        return [self.__getitem__(token) for token in tokens]\n",
    "\n",
    "    def to_tokens(self, indices):\n",
    "        if not isinstance(indices, (list, tuple)):\n",
    "            return self.idx_to_token[indices]\n",
    "        return [self.to_tokens(indice) for indice in indices]"
   ]
  },
  {
   "cell_type": "code",
   "execution_count": 16,
   "metadata": {},
   "outputs": [
    {
     "name": "stdout",
     "output_type": "stream",
     "text": [
      "[('<unk>', 0), ('the', 1), ('i', 2), ('and', 3), ('of', 4), ('a', 5), ('to', 6), ('was', 7), ('in', 8), ('that', 9)]\n",
      "0\n",
      "文本: ['the', 'time', 'machine', 'by', 'h', 'g', 'wells']\n",
      "索引: [1, 19, 50, 40, 2183, 2184, 400]\n",
      "文本: ['twinkled', 'and', 'his', 'usually', 'pale', 'face', 'was', 'flushed', 'and', 'animated', 'the']\n",
      "索引: [2186, 3, 25, 1044, 362, 113, 7, 1421, 3, 1045, 1]\n"
     ]
    }
   ],
   "source": [
    "vocab = Vocabulary(tokens)\n",
    "print(list(vocab.token_to_idx.items())[:10])\n",
    "print(vocab['ads'])\n",
    "for i in [0, 10]:\n",
    "    print('文本:', tokens[i])\n",
    "    print('索引:', vocab[tokens[i]])"
   ]
  },
  {
   "cell_type": "code",
   "execution_count": 17,
   "metadata": {},
   "outputs": [],
   "source": [
    "def load_cropus(max_tokens=-1, file_name=\"timemachine\", pattern=\"char\"):\n",
    "\n",
    "    with open(f\"./data/{file_name}.txt\", \"r\") as f:\n",
    "        lines = f.readlines()\n",
    "    lines = [re.sub(\"[^A-Za-z]+\", \" \", line).strip().lower() for line in lines]\n",
    "    tokens = tokenize(lines, pattern)\n",
    "    vocab = Vocabulary(tokens=tokens, min_freq=0)\n",
    "    corpus = [vocab[token] for line in tokens for token in line]\n",
    "    if max_tokens > 0:\n",
    "        corpus = corpus[:max_tokens]\n",
    "    return corpus, vocab"
   ]
  },
  {
   "cell_type": "code",
   "execution_count": 18,
   "metadata": {},
   "outputs": [
    {
     "data": {
      "text/plain": [
       "(32775, 4580)"
      ]
     },
     "execution_count": 18,
     "metadata": {},
     "output_type": "execute_result"
    }
   ],
   "source": [
    "corpus, vocab = load_cropus(pattern='word')\n",
    "len(corpus), len(vocab)"
   ]
  },
  {
   "cell_type": "code",
   "execution_count": 19,
   "metadata": {},
   "outputs": [
    {
     "data": {
      "image/png": "[encoded data removed]",
      "text/plain": [
       "<Figure size 640x480 with 1 Axes>"
      ]
     },
     "metadata": {},
     "output_type": "display_data"
    }
   ],
   "source": [
    "freqs=[freq for token,freq in vocab.token_freqs]\n",
    "plt.plot([i for i in range(len(freqs))],freqs)\n",
    "plt.xscale('log')\n",
    "plt.yscale('log')\n",
    "\n",
    "plt.show()"
   ]
  },
  {
   "cell_type": "code",
   "execution_count": 20,
   "metadata": {},
   "outputs": [],
   "source": [
    "def seq_data_iter_random(corpus, batch_size, num_steps, random_offset=\"True\"):\n",
    "    if random_offset:\n",
    "        a = random.randint(0, num_steps - 1)\n",
    "        # 如果偏移量大于时间步x，则偏移量中的x可以作为新的时间步\n",
    "    else:\n",
    "        a = 0\n",
    "    print(f'random offset: {a}')\n",
    "    # update corpus\n",
    "    corpus = corpus[a:]\n",
    "    num_subseqs = (len(corpus) - 1) // num_steps\n",
    "    initial_indices=[i*num_steps for i in range(num_subseqs)]\n",
    "    random.shuffle(initial_indices)\n",
    "    num_batches=num_subseqs//batch_size\n",
    "    for i in range(0,num_batches*batch_size,batch_size):\n",
    "        initial_indices_per_batch=initial_indices[i:i+batch_size]\n",
    "        X=[corpus[j:j+num_steps]for j in initial_indices_per_batch]\n",
    "        Y=[corpus[j+1:j+num_steps+1]for j in initial_indices_per_batch]\n",
    "        yield torch.tensor(X),torch.tensor(Y)\n"
   ]
  },
  {
   "cell_type": "code",
   "execution_count": 21,
   "metadata": {},
   "outputs": [
    {
     "name": "stdout",
     "output_type": "stream",
     "text": [
      "random offset: 2\n",
      "X:  tensor([[22, 23, 24, 25, 26],\n",
      "        [ 7,  8,  9, 10, 11]]) \n",
      "Y: tensor([[23, 24, 25, 26, 27],\n",
      "        [ 8,  9, 10, 11, 12]])\n",
      "X:  tensor([[17, 18, 19, 20, 21],\n",
      "        [12, 13, 14, 15, 16]]) \n",
      "Y: tensor([[18, 19, 20, 21, 22],\n",
      "        [13, 14, 15, 16, 17]])\n",
      "X:  tensor([[27, 28, 29, 30, 31],\n",
      "        [ 2,  3,  4,  5,  6]]) \n",
      "Y: tensor([[28, 29, 30, 31, 32],\n",
      "        [ 3,  4,  5,  6,  7]])\n"
     ]
    }
   ],
   "source": [
    "my_seq = list(range(35))\n",
    "for X, Y in seq_data_iter_random(my_seq, batch_size=2, num_steps=5):\n",
    "    print('X: ', X, '\\nY:', Y)"
   ]
  },
  {
   "cell_type": "code",
   "execution_count": 22,
   "metadata": {},
   "outputs": [
    {
     "name": "stdout",
     "output_type": "stream",
     "text": [
      "X:  tensor([[ 0,  1,  2,  3,  4],\n",
      "        [17, 18, 19, 20, 21]]) \n",
      "Y: tensor([[ 1,  2,  3,  4,  5],\n",
      "        [18, 19, 20, 21, 22]])\n",
      "X:  tensor([[ 5,  6,  7,  8,  9],\n",
      "        [22, 23, 24, 25, 26]]) \n",
      "Y: tensor([[ 6,  7,  8,  9, 10],\n",
      "        [23, 24, 25, 26, 27]])\n",
      "X:  tensor([[10, 11, 12, 13, 14],\n",
      "        [27, 28, 29, 30, 31]]) \n",
      "Y: tensor([[11, 12, 13, 14, 15],\n",
      "        [28, 29, 30, 31, 32]])\n"
     ]
    }
   ],
   "source": [
    "def seq_data_iter_sequential(corpus, batch_size, num_steps):  # @save\n",
    "    offset = random.randint(0, num_steps - 1)\n",
    "    offset = 0\n",
    "    corpus = corpus[offset:]\n",
    "    num_tokens = ((len(corpus) - 1 )// batch_size) * batch_size\n",
    "    Xs = torch.tensor(corpus[0:num_tokens]).reshape(batch_size, -1)\n",
    "    Ys = torch.tensor(corpus[1 : num_tokens + 1]).reshape(batch_size, -1)\n",
    "    num_batches = num_tokens // (batch_size * num_steps)\n",
    "    for i in range(0, num_batches):\n",
    "        X = Xs[:, i * num_steps : (i + 1) * num_steps]\n",
    "        Y = Ys[:, i * num_steps : (i + 1) * num_steps]\n",
    "        yield X, Y\n",
    "\n",
    "\n",
    "for X, Y in seq_data_iter_sequential(my_seq, batch_size=2, num_steps=5):\n",
    "    print(\"X: \", X, \"\\nY:\", Y)"
   ]
  },
  {
   "cell_type": "code",
   "execution_count": 23,
   "metadata": {},
   "outputs": [],
   "source": [
    "class SeqDataLoader:\n",
    "    def __init__(self, batch_size, num_steps, use_random_iter, max_tokens) -> None:\n",
    "        if use_random_iter:\n",
    "            self.data_iter_fn = seq_data_iter_random\n",
    "        else:\n",
    "            self.data_iter_fn = seq_data_iter_sequential\n",
    "        self.corpus, self.vocab = load_cropus(max_tokens, pattern=\"word\")\n",
    "        self.batch_size, self.num_steps = batch_size, num_steps\n",
    "\n",
    "    def __iter__(self):\n",
    "        return self.data_iter_fn(self.corpus, self.batch_size, self.num_steps)"
   ]
  },
  {
   "cell_type": "code",
   "execution_count": 24,
   "metadata": {},
   "outputs": [],
   "source": [
    "def load_data_time_machine(batch_size, num_steps, \n",
    "    use_random_iter=False, max_tokens=10000):\n",
    "    data_iter = SeqDataLoader(\n",
    "        batch_size, num_steps, use_random_iter=use_random_iter, max_tokens=max_tokens\n",
    "    )\n",
    "    return data_iter, data_iter.vocab"
   ]
  },
  {
   "cell_type": "code",
   "execution_count": null,
   "metadata": {},
   "outputs": [],
   "source": []
  }
 ],
 "metadata": {
  "kernelspec": {
   "display_name": "base",
   "language": "python",
   "name": "python3"
  },
  "language_info": {
   "codemirror_mode": {
    "name": "ipython",
    "version": 3
   },
   "file_extension": ".py",
   "mimetype": "text/x-python",
   "name": "python",
   "nbconvert_exporter": "python",
   "pygments_lexer": "ipython3",
   "version": "3.11.5"
  }
 },
 "nbformat": 4,
 "nbformat_minor": 2
}
