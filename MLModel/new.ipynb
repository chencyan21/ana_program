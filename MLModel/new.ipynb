{
 "cells": [
  {
   "cell_type": "code",
   "execution_count": null,
   "metadata": {},
   "outputs": [],
   "source": [
    "class Solution:\n",
    "    def printListFromTailToHead(self , listNode: ListNode) -> List[int]:\n",
    "        res=[]\n",
    "        stack=[]\n",
    "        while listNode:\n",
    "            stack.append(listNode.val)\n",
    "            listNode=listNode.next\n",
    "            "
   ]
  }
 ],
 "metadata": {
  "language_info": {
   "name": "python"
  }
 },
 "nbformat": 4,
 "nbformat_minor": 2
}
