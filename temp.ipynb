{
 "cells": [
  {
   "cell_type": "code",
   "execution_count": 3,
   "metadata": {},
   "outputs": [
    {
     "name": "stdout",
     "output_type": "stream",
     "text": [
      "1\n"
     ]
    }
   ],
   "source": [
    "a=[1]\n",
    "print(a[-1])"
   ]
  },
  {
   "cell_type": "code",
   "execution_count": 8,
   "metadata": {},
   "outputs": [
    {
     "data": {
      "text/plain": [
       "3"
      ]
     },
     "execution_count": 8,
     "metadata": {},
     "output_type": "execute_result"
    }
   ],
   "source": [
    "num =5\n",
    "num= int(num / 3) + num % 3\n",
    "num"
   ]
  },
  {
   "cell_type": "code",
   "execution_count": 5,
   "metadata": {},
   "outputs": [
    {
     "name": "stdout",
     "output_type": "stream",
     "text": [
      "0\n"
     ]
    }
   ],
   "source": [
    "import sys\n",
    "\n",
    "num = 10\n",
    "\n",
    "output = 0\n",
    "while num < 3:\n",
    "    temp = int(num / 3)\n",
    "    output += temp\n",
    "    num= temp + num % 3\n",
    "if num ==2:\n",
    "    output+=1\n",
    "print(output)"
   ]
  },
  {
   "cell_type": "code",
   "execution_count": null,
   "metadata": {},
   "outputs": [],
   "source": [
    "while True:\n",
    "    try:\n",
    "       a=int(input())\n",
    "       if a!=0:\n",
    "           print(a//2)\n",
    "\n",
    "    except:\n",
    "        break\n"
   ]
  },
  {
   "cell_type": "code",
   "execution_count": 2,
   "metadata": {},
   "outputs": [
    {
     "ename": "AttributeError",
     "evalue": "'str' object has no attribute 'append'",
     "output_type": "error",
     "traceback": [
      "\u001b[1;31m---------------------------------------------------------------------------\u001b[0m",
      "\u001b[1;31mAttributeError\u001b[0m                            Traceback (most recent call last)",
      "\u001b[1;32m~\\AppData\\Local\\Temp\\ipykernel_1588\\2908243468.py\u001b[0m in \u001b[0;36m<module>\u001b[1;34m\u001b[0m\n\u001b[0;32m      1\u001b[0m \u001b[0ms\u001b[0m\u001b[1;33m=\u001b[0m\u001b[1;34m''\u001b[0m\u001b[1;33m\u001b[0m\u001b[1;33m\u001b[0m\u001b[0m\n\u001b[1;32m----> 2\u001b[1;33m \u001b[0ms\u001b[0m\u001b[1;33m.\u001b[0m\u001b[0mappend\u001b[0m\u001b[1;33m(\u001b[0m\u001b[1;34m'q'\u001b[0m\u001b[1;33m)\u001b[0m\u001b[1;33m\u001b[0m\u001b[1;33m\u001b[0m\u001b[0m\n\u001b[0m\u001b[0;32m      3\u001b[0m \u001b[0ms\u001b[0m\u001b[1;33m\u001b[0m\u001b[1;33m\u001b[0m\u001b[0m\n",
      "\u001b[1;31mAttributeError\u001b[0m: 'str' object has no attribute 'append'"
     ]
    }
   ],
   "source": [
    "s=''\n",
    "s.append('q')\n",
    "s"
   ]
  },
  {
   "cell_type": "code",
   "execution_count": null,
   "metadata": {
    "collapsed": false
   },
   "outputs": [],
   "source": []
  },
  {
   "cell_type": "code",
   "execution_count": null,
   "metadata": {
    "collapsed": false,
    "pycharm": {
     "is_executing": true
    }
   },
   "outputs": [],
   "source": [
    "import nltk\n",
    "nltk.download()\n"
   ]
  },
  {
   "cell_type": "code",
   "execution_count": 2,
   "metadata": {
    "collapsed": false
   },
   "outputs": [
    {
     "name": "stdout",
     "output_type": "stream",
     "text": [
      "{2: 3}\n"
     ]
    }
   ],
   "source": [
    "mp= dict()\n",
    "\n",
    "mp[2]=3\n",
    "print(mp)"
   ]
  },
  {
   "cell_type": "code",
   "execution_count": 7,
   "metadata": {},
   "outputs": [
    {
     "name": "stdout",
     "output_type": "stream",
     "text": [
      "[1, 3, 5, 7, 9]\n"
     ]
    }
   ],
   "source": [
    "mylist = list(range(10))\n",
    "def func(x):\n",
    "    return x%2==1\n",
    "print(list(filter(func, mylist)))"
   ]
  },
  {
   "cell_type": "code",
   "execution_count": 8,
   "metadata": {},
   "outputs": [
    {
     "name": "stdout",
     "output_type": "stream",
     "text": [
      "外层函数 i 为：0 命名空间为:{'fun_list': [<function func.<locals>.foo at 0x000001C54BBADA60>], 'i': 0, 'foo': <function func.<locals>.foo at 0x000001C54BBADA60>}\n",
      "外层函数 i 为：1 命名空间为:{'fun_list': [<function func.<locals>.foo at 0x000001C54BBADA60>, <function func.<locals>.foo at 0x000001C54D942280>], 'i': 1, 'foo': <function func.<locals>.foo at 0x000001C54D942280>}\n",
      "外层函数 i 为：2 命名空间为:{'fun_list': [<function func.<locals>.foo at 0x000001C54BBADA60>, <function func.<locals>.foo at 0x000001C54D942280>, <function func.<locals>.foo at 0x000001C54D942D30>], 'i': 2, 'foo': <function func.<locals>.foo at 0x000001C54D942D30>}\n",
      "外层函数 i 为：3 命名空间为:{'fun_list': [<function func.<locals>.foo at 0x000001C54BBADA60>, <function func.<locals>.foo at 0x000001C54D942280>, <function func.<locals>.foo at 0x000001C54D942D30>, <function func.<locals>.foo at 0x000001C54D942700>], 'i': 3, 'foo': <function func.<locals>.foo at 0x000001C54D942700>}\n"
     ]
    }
   ],
   "source": [
    "def func():\n",
    "    fun_list = []\n",
    "    for i in range(4):\n",
    "        def foo(x):\n",
    "            print('foo函数中 i {} 命名空间为：{}:'.format(i, locals()))\n",
    "            return x * i\n",
    "        fun_list.append(foo)\n",
    "        print('外层函数 i 为：{} 命名空间为:{}'.format(i, locals()))\n",
    "    return fun_list\n",
    "f = func()"
   ]
  },
  {
   "cell_type": "code",
   "execution_count": 9,
   "metadata": {},
   "outputs": [
    {
     "data": {
      "text/plain": [
       "[<function __main__.func.<locals>.foo(x)>,\n",
       " <function __main__.func.<locals>.foo(x)>,\n",
       " <function __main__.func.<locals>.foo(x)>,\n",
       " <function __main__.func.<locals>.foo(x)>]"
      ]
     },
     "execution_count": 9,
     "metadata": {},
     "output_type": "execute_result"
    }
   ],
   "source": [
    "f"
   ]
  },
  {
   "cell_type": "code",
   "execution_count": 11,
   "metadata": {},
   "outputs": [],
   "source": [
    "import json\n",
    "dict1 = {'zhangfei':1, \"liubei\":2, \"guanyu\": 4, \"zhaoyun\":3}\n",
    "myjson = json.dumps(dict1)    # 字典转JSON\n",
    "mydict = json.loads(myjson)   # JSON转字典\n"
   ]
  },
  {
   "cell_type": "code",
   "execution_count": 12,
   "metadata": {},
   "outputs": [
    {
     "data": {
      "text/plain": [
       "'{\"zhangfei\": 1, \"liubei\": 2, \"guanyu\": 4, \"zhaoyun\": 3}'"
      ]
     },
     "execution_count": 12,
     "metadata": {},
     "output_type": "execute_result"
    }
   ],
   "source": [
    "myjson"
   ]
  },
  {
   "cell_type": "code",
   "execution_count": 13,
   "metadata": {},
   "outputs": [],
   "source": [
    "go_list = (i for i in range(10))\n"
   ]
  },
  {
   "cell_type": "code",
   "execution_count": 24,
   "metadata": {},
   "outputs": [
    {
     "ename": "StopIteration",
     "evalue": "",
     "output_type": "error",
     "traceback": [
      "\u001b[1;31m---------------------------------------------------------------------------\u001b[0m",
      "\u001b[1;31mStopIteration\u001b[0m                             Traceback (most recent call last)",
      "\u001b[1;32m~\\AppData\\Local\\Temp\\ipykernel_16100\\2898030654.py\u001b[0m in \u001b[0;36m<module>\u001b[1;34m\u001b[0m\n\u001b[1;32m----> 1\u001b[1;33m \u001b[0mprint\u001b[0m\u001b[1;33m(\u001b[0m\u001b[0mnext\u001b[0m\u001b[1;33m(\u001b[0m\u001b[0mgo_list\u001b[0m\u001b[1;33m)\u001b[0m\u001b[1;33m)\u001b[0m\u001b[1;33m\u001b[0m\u001b[1;33m\u001b[0m\u001b[0m\n\u001b[0m",
      "\u001b[1;31mStopIteration\u001b[0m: "
     ]
    }
   ],
   "source": [
    "print(next(go_list))"
   ]
  },
  {
   "cell_type": "code",
   "execution_count": 34,
   "metadata": {},
   "outputs": [
    {
     "name": "stdout",
     "output_type": "stream",
     "text": [
      "{'n': 2, 'i': 2, 'h': 2, 's': 1, 'a': 1, 'e': 1, 'd': 1, 'c': 2, 'w': 1, 'm': 1, 'o': 1, 't': 1, 'p': 1, 'x': 1}\n"
     ]
    }
   ],
   "source": [
    "str1 = \"nihsasehndciswemeotpxc\"\n",
    "mydict={}\n",
    "for i in range(len(str1)):\n",
    "    if mydict.get(str1[i])==True:\n",
    "        mydict[str1[i]]+=1\n",
    "    else:\n",
    "        mydict[str1[i]]=1\n",
    "print(mydict)"
   ]
  },
  {
   "cell_type": "code",
   "execution_count": 59,
   "metadata": {},
   "outputs": [
    {
     "name": "stdout",
     "output_type": "stream",
     "text": [
      "1111111111111111111111111111111111111111111111111111111111111111111111111111111111111111111111111111111111111111111111111111111111111111111111111111111111111111111111111111111111111111111111111111111111111111111111111111111111111111111111111111111111111111111111111111111111111111111111111111111111111111111111111111111111111111111111111111111111111111111111111111111111111111111111111111111111111111111111111111111111111111111111111111111111111111111111111111111111111111111111111111111111111111111111111111111111111111111111111111111111111111111111111111111111111111111111111111111111111111111111111111111111111111111111111111111111111111111111111111111111111111111111111111111111111111111111111111111111111111111111111111111111111111111111111111111111111111111111111111111111111111111111111111111111111111111111111111111111111111111111111111111111111111111111111111111111111111111111111111111111111111111111111111111111111111111111111111111111111111111111111111111111111111111111111111111111111111\n",
      "\n",
      "cost time: 0.014959573745727539s\n"
     ]
    }
   ],
   "source": [
    "import time\n",
    "def calc_time(func):\n",
    "    def inner(*args,**kwargs):\n",
    "        t1 = time.time()\n",
    "        func(*args,**kwargs)\n",
    "        t2 = time.time()\n",
    "        print('cost time: {}s'.format(t2-t1))\n",
    "    return inner\n",
    "\n",
    "@calc_time\n",
    "def test(x):\n",
    "    for i in range(1000):\n",
    "        print(x,end='')\n",
    "    print('\\n')\n",
    "    return x\n",
    "\n",
    "test(1) \n"
   ]
  },
  {
   "cell_type": "code",
   "execution_count": 50,
   "metadata": {},
   "outputs": [
    {
     "name": "stdout",
     "output_type": "stream",
     "text": [
      "5\n",
      "4\n",
      "3\n",
      "2\n"
     ]
    }
   ],
   "source": [
    "for i in range(5,1,-1):\n",
    "    print(i)"
   ]
  },
  {
   "cell_type": "code",
   "execution_count": 51,
   "metadata": {},
   "outputs": [
    {
     "data": {
      "text/plain": [
       "<function list.__getitem__>"
      ]
     },
     "execution_count": 51,
     "metadata": {},
     "output_type": "execute_result"
    }
   ],
   "source": [
    "a=[1,2,3]\n",
    "a.__getitem__"
   ]
  },
  {
   "cell_type": "code",
   "execution_count": 1,
   "metadata": {},
   "outputs": [
    {
     "name": "stdout",
     "output_type": "stream",
     "text": [
      "我们的数组是：\n",
      "[[ 0  1  2]\n",
      " [ 3  4  5]\n",
      " [ 6  7  8]\n",
      " [ 9 10 11]]\n",
      "\n",
      "\n",
      "这个数组的四个角元素是：\n",
      "[[ 0  4]\n",
      " [ 9 11]]\n"
     ]
    }
   ],
   "source": [
    "import numpy as np \n",
    " \n",
    "x = np.array([[  0,  1,  2],[  3,  4,  5],[  6,  7,  8],[  9,  10,  11]])  \n",
    "print ('我们的数组是：' )\n",
    "print (x)\n",
    "print ('\\n')\n",
    "rows = np.array([[0,1],[3,3]]) \n",
    "cols = np.array([[0,1],[0,2]]) \n",
    "y = x[rows,cols]  \n",
    "print  ('这个数组的四个角元素是：')\n",
    "print (y)"
   ]
  },
  {
   "cell_type": "code",
   "execution_count": 5,
   "metadata": {},
   "outputs": [
    {
     "data": {
      "text/plain": [
       "tensor(1.)"
      ]
     },
     "execution_count": 5,
     "metadata": {},
     "output_type": "execute_result"
    }
   ],
   "source": [
    "import torch\n",
    "torch.log(torch.tensor(torch.e))"
   ]
  },
  {
   "cell_type": "code",
   "execution_count": 3,
   "metadata": {},
   "outputs": [
    {
     "data": {
      "image/png": "[encoded data removed]",
      "text/plain": [
       "<Figure size 640x480 with 1 Axes>"
      ]
     },
     "metadata": {},
     "output_type": "display_data"
    }
   ],
   "source": [
    "import numpy as np\n",
    "import matplotlib.pyplot as plt\n",
    "\n",
    "def sigmoid(x):\n",
    "    return 1 / (1 + np.exp(-x))\n",
    "\n",
    "# 生成x轴数据，范围从-7到7，步长为0.1\n",
    "x = np.arange(-7, 7, 0.1)\n",
    "# 计算sigmoid函数的y轴数据\n",
    "y = sigmoid(x)\n",
    "\n",
    "# 绘制sigmoid函数图像\n",
    "plt.plot(x, y)\n",
    "plt.xlabel('x')\n",
    "plt.ylabel('sigmoid(x)')\n",
    "plt.title('Sigmoid Function')\n",
    "plt.grid(True)\n",
    "plt.show()\n"
   ]
  },
  {
   "cell_type": "code",
   "execution_count": 4,
   "metadata": {},
   "outputs": [
    {
     "data": {
      "image/png": "[encoded data removed]",
      "text/plain": [
       "<Figure size 640x480 with 1 Axes>"
      ]
     },
     "metadata": {},
     "output_type": "display_data"
    }
   ],
   "source": [
    "import numpy as np\n",
    "import matplotlib.pyplot as plt\n",
    "\n",
    "def tanh(x):\n",
    "    return np.tanh(x)\n",
    "\n",
    "# 生成x轴数据，范围从-7到7，步长为0.1\n",
    "x = np.arange(-7, 7, 0.1)\n",
    "# 计算tanh函数的y轴数据\n",
    "y = tanh(x)\n",
    "\n",
    "# 绘制tanh函数图像\n",
    "plt.plot(x, y)\n",
    "plt.xlabel('x')\n",
    "plt.ylabel('tanh(x)')\n",
    "plt.title('Tanh Function')\n",
    "plt.grid(True)\n",
    "plt.show()\n"
   ]
  },
  {
   "cell_type": "code",
   "execution_count": 5,
   "metadata": {},
   "outputs": [
    {
     "data": {
      "image/png": "[encoded data removed]",
      "text/plain": [
       "<Figure size 640x480 with 1 Axes>"
      ]
     },
     "metadata": {},
     "output_type": "display_data"
    }
   ],
   "source": [
    "import numpy as np\n",
    "import matplotlib.pyplot as plt\n",
    "\n",
    "# 生成输入值的范围\n",
    "x = np.linspace(-5, 5, 100)\n",
    "\n",
    "# 计算tanh函数的输出\n",
    "y = np.tanh(2 * x) # 注意这里使用2 * x\n",
    "\n",
    "# 绘制图像\n",
    "plt.plot(x, y, label='tanh(2x)')\n",
    "plt.xlabel('x')\n",
    "plt.ylabel('tanh(2x)')\n",
    "plt.legend()\n",
    "plt.title('tanh Activation Function')\n",
    "plt.grid(True)\n",
    "plt.show()\n"
   ]
  },
  {
   "cell_type": "code",
   "execution_count": 1,
   "metadata": {},
   "outputs": [
    {
     "name": "stdout",
     "output_type": "stream",
     "text": [
      "tensor([[-0.3042,  0.6133],\n",
      "        [ 0.1491,  0.9973],\n",
      "        [-0.1607,  0.5789]], grad_fn=<AddmmBackward0>)\n"
     ]
    }
   ],
   "source": [
    "import torch\n",
    "import torch.nn as nn\n",
    "import torch.nn.functional as F\n",
    "\n",
    "class Net(nn.Module):\n",
    "    def __init__(self):\n",
    "        super(Net, self).__init__()\n",
    "        self.fc1 = nn.Linear(10, 5) # 定义全连接层，输入10个特征，输出5个特征\n",
    "        self.fc2 = nn.Linear(5, 2) # 定义全连接层，输入5个特征，输出2个特征\n",
    "        self.dropout = nn.Dropout(p=0.5) # 定义丢弃层，p=0.5表示随机丢弃50%的神经元\n",
    "\n",
    "    def forward(self, x):\n",
    "        x = F.relu(self.fc1(x)) # relu激活函数\n",
    "        x = self.dropout(x) # 使用丢弃层\n",
    "        x = self.fc2(x)\n",
    "        return x\n",
    "\n",
    "net = Net()\n",
    "input = torch.randn(3, 10) # 随机生成3个样本，每个样本有10个特征\n",
    "output = net(input)\n",
    "print(output)\n"
   ]
  },
  {
   "cell_type": "code",
   "execution_count": 7,
   "metadata": {},
   "outputs": [
    {
     "name": "stdout",
     "output_type": "stream",
     "text": [
      "丢弃法前的数据：\n",
      "[[0.57731821 0.77650363 0.34248335 0.62307113]\n",
      " [0.72139986 0.85819464 0.01373929 0.89249401]\n",
      " [0.91058073 0.02433603 0.9642533  0.14200835]\n",
      " [0.10520387 0.15080108 0.95698748 0.19174636]\n",
      " [0.16279101 0.29578048 0.92394255 0.69300037]]\n",
      "[[0. 0. 0. 0.]\n",
      " [0. 0. 0. 0.]\n",
      " [0. 0. 5. 0.]\n",
      " [0. 0. 0. 0.]\n",
      " [0. 0. 0. 0.]]\n",
      "丢弃法后的数据：\n",
      "[[0.        0.        0.        0.       ]\n",
      " [0.        0.        0.        0.       ]\n",
      " [0.        0.        4.8212665 0.       ]\n",
      " [0.        0.        0.        0.       ]\n",
      " [0.        0.        0.        0.       ]]\n"
     ]
    }
   ],
   "source": [
    "import numpy as np\n",
    "\n",
    "# 生成随机矩阵X，形状为(5, 4)\n",
    "X = np.random.rand(5, 4)\n",
    "\n",
    "# 丢弃法前的数据\n",
    "print(\"丢弃法前的数据：\")\n",
    "print(X)\n",
    "\n",
    "# 定义丢弃比率为0.5\n",
    "dropout_rate = 0.2\n",
    "\n",
    "# 对X进行丢弃法处理，丢弃比率为0.5\n",
    "mask = (np.random.rand(*X.shape) < dropout_rate) / dropout_rate\n",
    "X_dropout = X * mask\n",
    "print(mask)\n",
    "\n",
    "# 丢弃法后的数据\n",
    "print(\"丢弃法后的数据：\")\n",
    "print(X_dropout)\n"
   ]
  },
  {
   "cell_type": "code",
   "execution_count": 3,
   "metadata": {},
   "outputs": [
    {
     "ename": "SyntaxError",
     "evalue": "can't use starred expression here (608056813.py, line 1)",
     "output_type": "error",
     "traceback": [
      "\u001b[1;36m  File \u001b[1;32m\"C:\\Users\\C1602\\AppData\\Local\\Temp\\ipykernel_19240\\608056813.py\"\u001b[1;36m, line \u001b[1;32m1\u001b[0m\n\u001b[1;33m    *X.shape\u001b[0m\n\u001b[1;37m    ^\u001b[0m\n\u001b[1;31mSyntaxError\u001b[0m\u001b[1;31m:\u001b[0m can't use starred expression here\n"
     ]
    }
   ],
   "source": []
  },
  {
   "cell_type": "code",
   "execution_count": 6,
   "metadata": {},
   "outputs": [
    {
     "data": {
      "text/plain": [
       "(5, 4)"
      ]
     },
     "execution_count": 6,
     "metadata": {},
     "output_type": "execute_result"
    }
   ],
   "source": [
    "((np.random.rand(5,4) < dropout_rate) / dropout_rate).shape"
   ]
  },
  {
   "cell_type": "code",
   "execution_count": 9,
   "metadata": {},
   "outputs": [
    {
     "name": "stdout",
     "output_type": "stream",
     "text": [
      "[nan inf inf]\n"
     ]
    },
    {
     "name": "stderr",
     "output_type": "stream",
     "text": [
      "C:\\Users\\C1602\\AppData\\Local\\Temp\\ipykernel_19240\\3581347138.py:6: RuntimeWarning: divide by zero encountered in true_divide\n",
      "  c = a / b  # 除以0，产生NaN\n",
      "C:\\Users\\C1602\\AppData\\Local\\Temp\\ipykernel_19240\\3581347138.py:6: RuntimeWarning: invalid value encountered in true_divide\n",
      "  c = a / b  # 除以0，产生NaN\n"
     ]
    }
   ],
   "source": [
    "import numpy as np\n",
    "\n",
    "a = np.array([0, 2, 3])\n",
    "b = np.array([0, 0, 0])\n",
    "\n",
    "c = a / b  # 除以0，产生NaN\n",
    "\n",
    "print(c)\n"
   ]
  },
  {
   "cell_type": "code",
   "execution_count": 5,
   "metadata": {},
   "outputs": [
    {
     "data": {
      "text/plain": [
       "device(type='cpu')"
      ]
     },
     "execution_count": 5,
     "metadata": {},
     "output_type": "execute_result"
    }
   ],
   "source": [
    "import torch\n",
    "torch.device('cpu')"
   ]
  },
  {
   "cell_type": "code",
   "execution_count": 1,
   "metadata": {},
   "outputs": [
    {
     "name": "stdout",
     "output_type": "stream",
     "text": [
      "No devices were found\n"
     ]
    }
   ],
   "source": [
    "!nvidia-smi"
   ]
  },
  {
   "cell_type": "code",
   "execution_count": 1,
   "metadata": {},
   "outputs": [
    {
     "data": {
      "text/plain": [
       "0.03"
      ]
     },
     "execution_count": 1,
     "metadata": {},
     "output_type": "execute_result"
    }
   ],
   "source": [
    "3e-2"
   ]
  },
  {
   "cell_type": "code",
   "execution_count": 2,
   "metadata": {},
   "outputs": [
    {
     "data": {
      "text/plain": [
       "'2.0.0+cu118'"
      ]
     },
     "execution_count": 2,
     "metadata": {},
     "output_type": "execute_result"
    }
   ],
   "source": [
    "import torch\n",
    "torch.__version__"
   ]
  },
  {
   "cell_type": "code",
   "execution_count": null,
   "metadata": {},
   "outputs": [],
   "source": [
    "import torch.nn as nn\n",
    "\n",
    "class NiNBlock(nn.Module):\n",
    "    def __init__(self, in_channels, out_channels, kernel_size, stride, padding):\n",
    "        super(NiNBlock, self).__init__()\n",
    "        self.block = nn.Sequential(\n",
    "            nn.Conv2d(in_channels, out_channels, kernel_size, stride, padding),\n",
    "            nn.ReLU(),\n",
    "            nn.Conv2d(out_channels, out_channels, kernel_size=1),\n",
    "            nn.ReLU(),\n",
    "            nn.Conv2d(out_channels, out_channels, kernel_size=1),\n",
    "            nn.ReLU()\n",
    "        )\n",
    "    \n",
    "    def forward(self, x):\n",
    "        return self.block(x)\n",
    "\n",
    "class NiN(nn.Module):\n",
    "    def __init__(self):\n",
    "        super(NiN, self).__init__()\n",
    "        self.network = nn.Sequential(\n",
    "            NiNBlock(in_channels=3, out_channels=96, kernel_size=11, stride=4, padding=0),\n",
    "            nn.MaxPool2d(kernel_size=3, stride=2),\n",
    "            NiNBlock(in_channels=96, out_channels=256, kernel_size=5, stride=1, padding=2),\n",
    "            nn.MaxPool2d(kernel_size=3, stride=2),\n",
    "            NiNBlock(in_channels=256, out_channels=384, kernel_size=3, stride=1, padding=1),\n",
    "            nn.MaxPool2d(kernel_size=3, stride=2),\n",
    "            nn.Dropout(p=0.5),\n",
    "            NiNBlock(in_channels=384, out_channels=10, kernel_size=3, stride=1, padding=1),\n",
    "            nn.AdaptiveAvgPool2d((1, 1)),\n",
    "        )\n",
    "    \n",
    "    def forward(self, x):\n",
    "        x = self.network(x)\n",
    "        return x.view(x.shape[0], -1)\n"
   ]
  },
  {
   "cell_type": "code",
   "execution_count": 2,
   "metadata": {},
   "outputs": [
    {
     "data": {
      "text/plain": [
       "tensor([[[0.4835, 0.9305, 0.7584, 0.6690],\n",
       "         [0.5059, 0.7873, 0.5114, 0.6886],\n",
       "         [0.5065, 0.2339, 0.3352, 0.6061]],\n",
       "\n",
       "        [[0.1965, 0.5094, 0.5327, 0.1322],\n",
       "         [0.5823, 0.8732, 0.6758, 0.3360],\n",
       "         [0.9784, 0.4104, 0.0204, 0.8617]]])"
      ]
     },
     "execution_count": 2,
     "metadata": {},
     "output_type": "execute_result"
    }
   ],
   "source": [
    "import torch \n",
    "x=torch.rand((2,3,4))\n",
    "x"
   ]
  },
  {
   "cell_type": "code",
   "execution_count": 4,
   "metadata": {},
   "outputs": [
    {
     "data": {
      "text/plain": [
       "tensor([[[0.5265],\n",
       "         [0.6201],\n",
       "         [0.4941]]])"
      ]
     },
     "execution_count": 4,
     "metadata": {},
     "output_type": "execute_result"
    }
   ],
   "source": [
    "x.mean(dim=(0,2),keepdim=True)"
   ]
  },
  {
   "cell_type": "code",
   "execution_count": 2,
   "metadata": {},
   "outputs": [
    {
     "data": {
      "text/plain": [
       "tensor([-0.5349,  0.4879, -1.7026, -0.9776])"
      ]
     },
     "execution_count": 2,
     "metadata": {},
     "output_type": "execute_result"
    }
   ],
   "source": [
    "import torch\n",
    "a=torch.randn(4)\n",
    "a\n"
   ]
  },
  {
   "cell_type": "code",
   "execution_count": 3,
   "metadata": {},
   "outputs": [
    {
     "data": {
      "text/plain": [
       "tensor([[-0.5349,  0.4879, -1.7026, -0.9776],\n",
       "        [-0.5349,  0.4879, -1.7026, -0.9776],\n",
       "        [-0.5349,  0.4879, -1.7026, -0.9776],\n",
       "        [-0.5349,  0.4879, -1.7026, -0.9776]])"
      ]
     },
     "execution_count": 3,
     "metadata": {},
     "output_type": "execute_result"
    }
   ],
   "source": [
    "a.repeat(4,1)"
   ]
  },
  {
   "cell_type": "code",
   "execution_count": 4,
   "metadata": {},
   "outputs": [
    {
     "data": {
      "text/plain": [
       "tensor([-0.5349,  0.4879, -1.7026, -0.9776, -0.5349,  0.4879, -1.7026, -0.9776,\n",
       "        -0.5349,  0.4879, -1.7026, -0.9776, -0.5349,  0.4879, -1.7026, -0.9776])"
      ]
     },
     "execution_count": 4,
     "metadata": {},
     "output_type": "execute_result"
    }
   ],
   "source": [
    "a.repeat(4)"
   ]
  },
  {
   "cell_type": "code",
   "execution_count": 5,
   "metadata": {},
   "outputs": [
    {
     "data": {
      "text/plain": [
       "tensor([[ 0.5349, -0.4879,  1.7026,  0.9776],\n",
       "        [-0.5349,  0.4879, -1.7026, -0.9776]])"
      ]
     },
     "execution_count": 5,
     "metadata": {},
     "output_type": "execute_result"
    }
   ],
   "source": [
    "torch.stack((-a,a))"
   ]
  },
  {
   "cell_type": "code",
   "execution_count": 2,
   "metadata": {},
   "outputs": [],
   "source": [
    "import torch\n",
    "anchors_bbox_map= torch.tensor([-1, 0, 1, -1, 1])"
   ]
  },
  {
   "cell_type": "code",
   "execution_count": 3,
   "metadata": {},
   "outputs": [
    {
     "data": {
      "text/plain": [
       "tensor([False,  True,  True, False,  True])"
      ]
     },
     "execution_count": 3,
     "metadata": {},
     "output_type": "execute_result"
    }
   ],
   "source": [
    "(anchors_bbox_map >= 0)"
   ]
  }
 ],
 "metadata": {
  "kernelspec": {
   "display_name": "Python 3 (ipykernel)",
   "language": "python",
   "name": "python3"
  },
  "language_info": {
   "codemirror_mode": {
    "name": "ipython",
    "version": 3
   },
   "file_extension": ".py",
   "mimetype": "text/x-python",
   "name": "python",
   "nbconvert_exporter": "python",
   "pygments_lexer": "ipython3",
   "version": "3.9.13"
  },
  "orig_nbformat": 4,
  "vscode": {
   "interpreter": {
    "hash": "7795591fae2c9c3801b50b2fb867cc56e0eb3bb22f687929c893d5b1ae764fad"
   }
  }
 },
 "nbformat": 4,
 "nbformat_minor": 2
}
