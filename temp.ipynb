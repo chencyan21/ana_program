{
 "cells": [
  {
   "cell_type": "code",
   "execution_count": 3,
   "metadata": {},
   "outputs": [
    {
     "name": "stdout",
     "output_type": "stream",
     "text": [
      "1\n"
     ]
    }
   ],
   "source": [
    "a=[1]\n",
    "print(a[-1])"
   ]
  },
  {
   "cell_type": "code",
   "execution_count": 8,
   "metadata": {},
   "outputs": [
    {
     "data": {
      "text/plain": [
       "3"
      ]
     },
     "execution_count": 8,
     "metadata": {},
     "output_type": "execute_result"
    }
   ],
   "source": [
    "num =5\n",
    "num= int(num / 3) + num % 3\n",
    "num"
   ]
  },
  {
   "cell_type": "code",
   "execution_count": 5,
   "metadata": {},
   "outputs": [
    {
     "name": "stdout",
     "output_type": "stream",
     "text": [
      "0\n"
     ]
    }
   ],
   "source": [
    "import sys\n",
    "\n",
    "num = 10\n",
    "\n",
    "output = 0\n",
    "while num < 3:\n",
    "    temp = int(num / 3)\n",
    "    output += temp\n",
    "    num= temp + num % 3\n",
    "if num ==2:\n",
    "    output+=1\n",
    "print(output)"
   ]
  },
  {
   "cell_type": "code",
   "execution_count": null,
   "metadata": {},
   "outputs": [],
   "source": [
    "while True:\n",
    "    try:\n",
    "       a=int(input())\n",
    "       if a!=0:\n",
    "           print(a//2)\n",
    "\n",
    "    except:\n",
    "        break\n"
   ]
  },
  {
   "cell_type": "code",
   "execution_count": 2,
   "metadata": {},
   "outputs": [
    {
     "ename": "AttributeError",
     "evalue": "'str' object has no attribute 'append'",
     "output_type": "error",
     "traceback": [
      "\u001B[1;31m---------------------------------------------------------------------------\u001B[0m",
      "\u001B[1;31mAttributeError\u001B[0m                            Traceback (most recent call last)",
      "\u001B[1;32m~\\AppData\\Local\\Temp\\ipykernel_1588\\2908243468.py\u001B[0m in \u001B[0;36m<module>\u001B[1;34m\u001B[0m\n\u001B[0;32m      1\u001B[0m \u001B[0ms\u001B[0m\u001B[1;33m=\u001B[0m\u001B[1;34m''\u001B[0m\u001B[1;33m\u001B[0m\u001B[1;33m\u001B[0m\u001B[0m\n\u001B[1;32m----> 2\u001B[1;33m \u001B[0ms\u001B[0m\u001B[1;33m.\u001B[0m\u001B[0mappend\u001B[0m\u001B[1;33m(\u001B[0m\u001B[1;34m'q'\u001B[0m\u001B[1;33m)\u001B[0m\u001B[1;33m\u001B[0m\u001B[1;33m\u001B[0m\u001B[0m\n\u001B[0m\u001B[0;32m      3\u001B[0m \u001B[0ms\u001B[0m\u001B[1;33m\u001B[0m\u001B[1;33m\u001B[0m\u001B[0m\n",
      "\u001B[1;31mAttributeError\u001B[0m: 'str' object has no attribute 'append'"
     ]
    }
   ],
   "source": [
    "s=''\n",
    "s.append('q')\n",
    "s"
   ]
  },
  {
   "cell_type": "code",
   "execution_count": null,
   "metadata": {
    "collapsed": false
   },
   "outputs": [],
   "source": []
  },
  {
   "cell_type": "code",
   "execution_count": null,
   "metadata": {
    "collapsed": false,
    "pycharm": {
     "is_executing": true
    }
   },
   "outputs": [],
   "source": [
    "import nltk\n",
    "nltk.download()\n"
   ]
  },
  {
   "cell_type": "code",
   "execution_count": 2,
   "metadata": {
    "collapsed": false
   },
   "outputs": [
    {
     "name": "stdout",
     "output_type": "stream",
     "text": [
      "{2: 3}\n"
     ]
    }
   ],
   "source": [
    "mp= dict()\n",
    "\n",
    "mp[2]=3\n",
    "print(mp)"
   ]
  },
  {
   "cell_type": "code",
   "execution_count": 7,
   "metadata": {},
   "outputs": [
    {
     "name": "stdout",
     "output_type": "stream",
     "text": [
      "[1, 3, 5, 7, 9]\n"
     ]
    }
   ],
   "source": [
    "mylist = list(range(10))\n",
    "def func(x):\n",
    "    return x%2==1\n",
    "print(list(filter(func, mylist)))"
   ]
  },
  {
   "cell_type": "code",
   "execution_count": 8,
   "metadata": {},
   "outputs": [
    {
     "name": "stdout",
     "output_type": "stream",
     "text": [
      "外层函数 i 为：0 命名空间为:{'fun_list': [<function func.<locals>.foo at 0x000001C54BBADA60>], 'i': 0, 'foo': <function func.<locals>.foo at 0x000001C54BBADA60>}\n",
      "外层函数 i 为：1 命名空间为:{'fun_list': [<function func.<locals>.foo at 0x000001C54BBADA60>, <function func.<locals>.foo at 0x000001C54D942280>], 'i': 1, 'foo': <function func.<locals>.foo at 0x000001C54D942280>}\n",
      "外层函数 i 为：2 命名空间为:{'fun_list': [<function func.<locals>.foo at 0x000001C54BBADA60>, <function func.<locals>.foo at 0x000001C54D942280>, <function func.<locals>.foo at 0x000001C54D942D30>], 'i': 2, 'foo': <function func.<locals>.foo at 0x000001C54D942D30>}\n",
      "外层函数 i 为：3 命名空间为:{'fun_list': [<function func.<locals>.foo at 0x000001C54BBADA60>, <function func.<locals>.foo at 0x000001C54D942280>, <function func.<locals>.foo at 0x000001C54D942D30>, <function func.<locals>.foo at 0x000001C54D942700>], 'i': 3, 'foo': <function func.<locals>.foo at 0x000001C54D942700>}\n"
     ]
    }
   ],
   "source": [
    "def func():\n",
    "    fun_list = []\n",
    "    for i in range(4):\n",
    "        def foo(x):\n",
    "            print('foo函数中 i {} 命名空间为：{}:'.format(i, locals()))\n",
    "            return x * i\n",
    "        fun_list.append(foo)\n",
    "        print('外层函数 i 为：{} 命名空间为:{}'.format(i, locals()))\n",
    "    return fun_list\n",
    "f = func()"
   ]
  },
  {
   "cell_type": "code",
   "execution_count": 9,
   "metadata": {},
   "outputs": [
    {
     "data": {
      "text/plain": [
       "[<function __main__.func.<locals>.foo(x)>,\n",
       " <function __main__.func.<locals>.foo(x)>,\n",
       " <function __main__.func.<locals>.foo(x)>,\n",
       " <function __main__.func.<locals>.foo(x)>]"
      ]
     },
     "execution_count": 9,
     "metadata": {},
     "output_type": "execute_result"
    }
   ],
   "source": [
    "f"
   ]
  },
  {
   "cell_type": "code",
   "execution_count": 11,
   "metadata": {},
   "outputs": [],
   "source": [
    "import json\n",
    "dict1 = {'zhangfei':1, \"liubei\":2, \"guanyu\": 4, \"zhaoyun\":3}\n",
    "myjson = json.dumps(dict1)    # 字典转JSON\n",
    "mydict = json.loads(myjson)   # JSON转字典\n"
   ]
  },
  {
   "cell_type": "code",
   "execution_count": 12,
   "metadata": {},
   "outputs": [
    {
     "data": {
      "text/plain": [
       "'{\"zhangfei\": 1, \"liubei\": 2, \"guanyu\": 4, \"zhaoyun\": 3}'"
      ]
     },
     "execution_count": 12,
     "metadata": {},
     "output_type": "execute_result"
    }
   ],
   "source": [
    "myjson"
   ]
  },
  {
   "cell_type": "code",
   "execution_count": 13,
   "metadata": {},
   "outputs": [],
   "source": [
    "go_list = (i for i in range(10))\n"
   ]
  },
  {
   "cell_type": "code",
   "execution_count": 24,
   "metadata": {},
   "outputs": [
    {
     "ename": "StopIteration",
     "evalue": "",
     "output_type": "error",
     "traceback": [
      "\u001B[1;31m---------------------------------------------------------------------------\u001B[0m",
      "\u001B[1;31mStopIteration\u001B[0m                             Traceback (most recent call last)",
      "\u001B[1;32m~\\AppData\\Local\\Temp\\ipykernel_16100\\2898030654.py\u001B[0m in \u001B[0;36m<module>\u001B[1;34m\u001B[0m\n\u001B[1;32m----> 1\u001B[1;33m \u001B[0mprint\u001B[0m\u001B[1;33m(\u001B[0m\u001B[0mnext\u001B[0m\u001B[1;33m(\u001B[0m\u001B[0mgo_list\u001B[0m\u001B[1;33m)\u001B[0m\u001B[1;33m)\u001B[0m\u001B[1;33m\u001B[0m\u001B[1;33m\u001B[0m\u001B[0m\n\u001B[0m",
      "\u001B[1;31mStopIteration\u001B[0m: "
     ]
    }
   ],
   "source": [
    "print(next(go_list))"
   ]
  },
  {
   "cell_type": "code",
   "execution_count": 34,
   "metadata": {},
   "outputs": [
    {
     "name": "stdout",
     "output_type": "stream",
     "text": [
      "{'n': 2, 'i': 2, 'h': 2, 's': 1, 'a': 1, 'e': 1, 'd': 1, 'c': 2, 'w': 1, 'm': 1, 'o': 1, 't': 1, 'p': 1, 'x': 1}\n"
     ]
    }
   ],
   "source": [
    "str1 = \"nihsasehndciswemeotpxc\"\n",
    "mydict={}\n",
    "for i in range(len(str1)):\n",
    "    if mydict.get(str1[i])==True:\n",
    "        mydict[str1[i]]+=1\n",
    "    else:\n",
    "        mydict[str1[i]]=1\n",
    "print(mydict)"
   ]
  },
  {
   "cell_type": "code",
   "execution_count": 59,
   "metadata": {},
   "outputs": [
    {
     "name": "stdout",
     "output_type": "stream",
     "text": [
      "1111111111111111111111111111111111111111111111111111111111111111111111111111111111111111111111111111111111111111111111111111111111111111111111111111111111111111111111111111111111111111111111111111111111111111111111111111111111111111111111111111111111111111111111111111111111111111111111111111111111111111111111111111111111111111111111111111111111111111111111111111111111111111111111111111111111111111111111111111111111111111111111111111111111111111111111111111111111111111111111111111111111111111111111111111111111111111111111111111111111111111111111111111111111111111111111111111111111111111111111111111111111111111111111111111111111111111111111111111111111111111111111111111111111111111111111111111111111111111111111111111111111111111111111111111111111111111111111111111111111111111111111111111111111111111111111111111111111111111111111111111111111111111111111111111111111111111111111111111111111111111111111111111111111111111111111111111111111111111111111111111111111111111111111111111111111111111\n",
      "\n",
      "cost time: 0.014959573745727539s\n"
     ]
    }
   ],
   "source": [
    "import time\n",
    "def calc_time(func):\n",
    "    def inner(*args,**kwargs):\n",
    "        t1 = time.time()\n",
    "        func(*args,**kwargs)\n",
    "        t2 = time.time()\n",
    "        print('cost time: {}s'.format(t2-t1))\n",
    "    return inner\n",
    "\n",
    "@calc_time\n",
    "def test(x):\n",
    "    for i in range(1000):\n",
    "        print(x,end='')\n",
    "    print('\\n')\n",
    "    return x\n",
    "\n",
    "test(1) \n"
   ]
  },
  {
   "cell_type": "code",
   "execution_count": 50,
   "metadata": {},
   "outputs": [
    {
     "name": "stdout",
     "output_type": "stream",
     "text": [
      "5\n",
      "4\n",
      "3\n",
      "2\n"
     ]
    }
   ],
   "source": [
    "for i in range(5,1,-1):\n",
    "    print(i)"
   ]
  },
  {
   "cell_type": "code",
   "execution_count": 51,
   "metadata": {},
   "outputs": [
    {
     "data": {
      "text/plain": [
       "<function list.__getitem__>"
      ]
     },
     "execution_count": 51,
     "metadata": {},
     "output_type": "execute_result"
    }
   ],
   "source": [
    "a=[1,2,3]\n",
    "a.__getitem__"
   ]
  }
 ],
 "metadata": {
  "kernelspec": {
   "display_name": "base",
   "language": "python",
   "name": "python3"
  },
  "language_info": {
   "codemirror_mode": {
    "name": "ipython",
    "version": 3
   },
   "file_extension": ".py",
   "mimetype": "text/x-python",
   "name": "python",
   "nbconvert_exporter": "python",
   "pygments_lexer": "ipython3",
   "version": "3.9.13 (main, Aug 25 2022, 23:51:50) [MSC v.1916 64 bit (AMD64)]"
  },
  "orig_nbformat": 4,
  "vscode": {
   "interpreter": {
    "hash": "7795591fae2c9c3801b50b2fb867cc56e0eb3bb22f687929c893d5b1ae764fad"
   }
  }
 },
 "nbformat": 4,
 "nbformat_minor": 2
}
