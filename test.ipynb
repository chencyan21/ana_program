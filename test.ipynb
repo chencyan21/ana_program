{
 "cells": [
  {
   "cell_type": "code",
   "execution_count": 1,
   "metadata": {},
   "outputs": [],
   "source": [
    "import torch"
   ]
  },
  {
   "cell_type": "code",
   "execution_count": 3,
   "metadata": {},
   "outputs": [],
   "source": [
    "x= torch.zeros((3,2,5))"
   ]
  },
  {
   "cell_type": "code",
   "execution_count": 5,
   "metadata": {},
   "outputs": [
    {
     "data": {
      "text/plain": [
       "torch.Size([3, 2, 5])"
      ]
     },
     "execution_count": 5,
     "metadata": {},
     "output_type": "execute_result"
    }
   ],
   "source": [
    "x.shape"
   ]
  },
  {
   "cell_type": "code",
   "execution_count": 6,
   "metadata": {},
   "outputs": [],
   "source": [
    "head_shape = x.shape[:-1]"
   ]
  },
  {
   "cell_type": "code",
   "execution_count": 7,
   "metadata": {},
   "outputs": [
    {
     "data": {
      "text/plain": [
       "torch.Size([3, 2])"
      ]
     },
     "execution_count": 7,
     "metadata": {},
     "output_type": "execute_result"
    }
   ],
   "source": [
    "head_shape"
   ]
  },
  {
   "cell_type": "code",
   "execution_count": 11,
   "metadata": {},
   "outputs": [
    {
     "name": "stdout",
     "output_type": "stream",
     "text": [
      "tensor([[[5, 5, 5, 5],\n",
      "         [6, 6, 6, 6],\n",
      "         [7, 7, 7, 7]],\n",
      "\n",
      "        [[1, 1, 1, 1],\n",
      "         [2, 2, 2, 2],\n",
      "         [3, 3, 3, 3]]])\n",
      "torch.Size([2, 3, 4])\n",
      "#############################################3\n",
      "torch.Size([2, 3, 1])\n",
      "tensor([[[-1000000000, -1000000000, -1000000000, -1000000000],\n",
      "         [-1000000000, -1000000000, -1000000000, -1000000000],\n",
      "         [          7,           7,           7,           7]],\n",
      "\n",
      "        [[          1,           1,           1,           1],\n",
      "         [-1000000000, -1000000000, -1000000000, -1000000000],\n",
      "         [-1000000000, -1000000000, -1000000000, -1000000000]]])\n",
      "torch.Size([2, 3, 4])\n"
     ]
    }
   ],
   "source": [
    "import torch\n",
    "a=torch.tensor([[[5,5,5,5], [6,6,6,6], [7,7,7,7]], [[1,1,1,1],[2,2,2,2],[3,3,3,3]]])\n",
    "print(a)\n",
    "print(a.size())\n",
    "print(\"#############################################3\")\n",
    "mask = torch.BoolTensor([[[1],[1],[0]],[[0],[1],[1]]])\n",
    "print(mask.size())\n",
    "b = a.masked_fill(mask, value=torch.tensor(-1e9))\n",
    "print(b)\n",
    "print(b.size())"
   ]
  }
 ],
 "metadata": {
  "kernelspec": {
   "display_name": "base",
   "language": "python",
   "name": "python3"
  },
  "language_info": {
   "codemirror_mode": {
    "name": "ipython",
    "version": 3
   },
   "file_extension": ".py",
   "mimetype": "text/x-python",
   "name": "python",
   "nbconvert_exporter": "python",
   "pygments_lexer": "ipython3",
   "version": "3.11.5"
  }
 },
 "nbformat": 4,
 "nbformat_minor": 2
}
