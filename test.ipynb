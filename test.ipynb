{
 "cells": [
  {
   "cell_type": "code",
   "execution_count": 3,
   "metadata": {},
   "outputs": [],
   "source": [
    "#coding=utf-8\n",
    "# ############### 定义 ###############\n",
    "class Goods:\n",
    "    \"\"\"python3中默认继承object类\n",
    "        以python2、3执行此程序的结果不同，因为只有在python3中才有@xxx.setter  @xxx.deleter\n",
    "    \"\"\"\n",
    "    @property\n",
    "    def price(self):\n",
    "        # print('@property')\n",
    "        return 5\n",
    "\n",
    "    # @price.setter\n",
    "    # def price(self, value):\n",
    "    #     print('@price.setter')\n",
    "\n",
    "    # @price.deleter\n",
    "    # def price(self):\n",
    "    #     print('@price.deleter')\n",
    "\n",
    "# ############### 调用 ###############\n",
    "obj = Goods()\n",
    "# obj.price          # 自动执行 @property 修饰的 price 方法，并获取方法的返回值\n",
    "# obj.price = 123    # 自动执行 @price.setter 修饰的 price 方法，并将  123 赋值给方法的参数\n",
    "# del obj.price      # 自动执行 @price.deleter 修饰的 price 方法\n"
   ]
  },
  {
   "cell_type": "code",
   "execution_count": 4,
   "metadata": {},
   "outputs": [
    {
     "data": {
      "text/plain": [
       "5"
      ]
     },
     "execution_count": 4,
     "metadata": {},
     "output_type": "execute_result"
    }
   ],
   "source": [
    "obj.price"
   ]
  },
  {
   "cell_type": "code",
   "execution_count": 5,
   "metadata": {},
   "outputs": [
    {
     "ename": "AttributeError",
     "evalue": "can't set attribute",
     "output_type": "error",
     "traceback": [
      "\u001b[1;31m---------------------------------------------------------------------------\u001b[0m",
      "\u001b[1;31mAttributeError\u001b[0m                            Traceback (most recent call last)",
      "\u001b[1;32m~\\AppData\\Local\\Temp\\ipykernel_4224\\3245760037.py\u001b[0m in \u001b[0;36m<module>\u001b[1;34m\u001b[0m\n\u001b[1;32m----> 1\u001b[1;33m \u001b[0mobj\u001b[0m\u001b[1;33m.\u001b[0m\u001b[0mprice\u001b[0m\u001b[1;33m=\u001b[0m\u001b[1;36m9\u001b[0m\u001b[1;33m\u001b[0m\u001b[1;33m\u001b[0m\u001b[0m\n\u001b[0m",
      "\u001b[1;31mAttributeError\u001b[0m: can't set attribute"
     ]
    }
   ],
   "source": [
    "obj.price=9"
   ]
  },
  {
   "cell_type": "code",
   "execution_count": 1,
   "metadata": {},
   "outputs": [
    {
     "name": "stdout",
     "output_type": "stream",
     "text": [
      "Start main threading\n",
      "thread Thread-3, @number: 0\n",
      "thread Thread-4, @number: 0\n",
      "thread Thread-5, @number: 0\n",
      "End Main threading\n"
     ]
    },
    {
     "name": "stdout",
     "output_type": "stream",
     "text": [
      "thread Thread-5, @number: 1\n",
      "thread Thread-4, @number: 1\n",
      "thread Thread-3, @number: 1\n",
      "thread Thread-3, @number: 2thread Thread-4, @number: 2\n",
      "thread Thread-5, @number: 2\n",
      "\n",
      "thread Thread-5, @number: 3thread Thread-4, @number: 3\n",
      "\n",
      "thread Thread-3, @number: 3\n",
      "thread Thread-3, @number: 4\n",
      "thread Thread-4, @number: 4\n",
      "thread Thread-5, @number: 4\n"
     ]
    }
   ],
   "source": [
    "#!/usr/bin/env python3\n",
    "# -*- coding: UTF-8 -*-\n",
    "\n",
    "import time\n",
    "import threading\n",
    "\n",
    "\n",
    "class MyThread(threading.Thread):\n",
    "    def run(self):\n",
    "        for i in range(5):\n",
    "            print('thread {}, @number: {}'.format(self.name, i))\n",
    "            time.sleep(1)\n",
    "\n",
    "\n",
    "def main():\n",
    "    print(\"Start main threading\")\n",
    "\n",
    "    # 创建三个线程\n",
    "    threads = [MyThread() for i in range(3)]\n",
    "    # 启动三个线程\n",
    "    for t in threads:\n",
    "        t.start()\n",
    "\n",
    "    print(\"End Main threading\")\n",
    "    # print(threads)\n",
    "\n",
    "if __name__ == '__main__':\n",
    "    main()\n"
   ]
  },
  {
   "cell_type": "code",
   "execution_count": null,
   "metadata": {},
   "outputs": [],
   "source": []
  }
 ],
 "metadata": {
  "kernelspec": {
   "display_name": "Python 3.9.13 ('base')",
   "language": "python",
   "name": "python3"
  },
  "language_info": {
   "codemirror_mode": {
    "name": "ipython",
    "version": 3
   },
   "file_extension": ".py",
   "mimetype": "text/x-python",
   "name": "python",
   "nbconvert_exporter": "python",
   "pygments_lexer": "ipython3",
   "version": "3.9.13"
  },
  "vscode": {
   "interpreter": {
    "hash": "ec3b6344b8b3f6c3db1463248c46b8920f4fc68f6187e2c1e71f56a52299e245"
   }
  }
 },
 "nbformat": 4,
 "nbformat_minor": 0
}
